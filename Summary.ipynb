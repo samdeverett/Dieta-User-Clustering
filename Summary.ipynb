{
 "cells": [
  {
   "cell_type": "markdown",
   "metadata": {},
   "source": [
    "This notebook contains a summary of all the work Sam Deverett did for Dieta."
   ]
  },
  {
   "cell_type": "markdown",
   "metadata": {},
   "source": [
    "# Problem Statement"
   ]
  },
  {
   "cell_type": "markdown",
   "metadata": {},
   "source": [
    "## General"
   ]
  },
  {
   "cell_type": "markdown",
   "metadata": {},
   "source": [
    "An estimated 25-45 million Americans suffer from irritable bowel syndrome (IBS). While a professional is able to diagnose patients with the intestinal disorder, the best current cure is to simply try a plethora of diets until finding one that alleviates the symptom. This takes tremendous effort and lots of time - without even guarenteeing a solution."
   ]
  },
  {
   "cell_type": "markdown",
   "metadata": {},
   "source": [
    "Dieta is a mobile and web applitcation that uses data science to accelerate the healing process for IBS patients. By analyzing data on a user's digestive health, including their food intake and bowel movements, Dieta is able to more effectively identify triggers and more personally recommend diets. Furthermore, by anonymously aggregating insights from many users, Dieta allows patients with similar symptoms to grow better both faster and more unified."
   ]
  },
  {
   "cell_type": "markdown",
   "metadata": {},
   "source": [
    "## Project Specific"
   ]
  },
  {
   "cell_type": "markdown",
   "metadata": {},
   "source": [
    "This project focuses on finding insights across users. The goal is to be able to suggest users strategies to combat their symptoms based on the insights learned from patients just like them. For example, if it is known that a user belongs to a group of IBS patients with a certain subset of symtpoms and there is another patient in that group who has found a diet that works to alleviate those symptoms, Dieta would identify this and then suggest that diet to the original user. "
   ]
  },
  {
   "cell_type": "markdown",
   "metadata": {},
   "source": [
    "I will frame this problem as a clustering one. Clustering, a type of unsupervised machine learning, will allow me to detect groups of users. (This project will not include the recommender engine applied to the clustering insights.)"
   ]
  },
  {
   "cell_type": "markdown",
   "metadata": {},
   "source": [
    "Performing clustering will involve the following steps:"
   ]
  },
  {
   "cell_type": "markdown",
   "metadata": {},
   "source": [
    "* [setting up](#set_up) the environment\n",
    "* [loading](#loading) the data\n",
    "* [exploring](#EDA) the data\n",
    "* [preprocessing](#preprocessing) the data\n",
    "* [feature engineering](#feature_engineering) distinguishing characteristics of users\n",
    "* selecting the [number of clusters](#num_clusters)\n",
    "* running various [clustering](#clustering) algorithms\n",
    "* [choosing](#choose) the best clustering"
   ]
  },
  {
   "cell_type": "markdown",
   "metadata": {},
   "source": [
    "Although there is no \"correct\" way to cluster data, the merit of each clustering will be determined (roughly) by comparing the outputted clusters to medical research's best current model, namely subdiagnoses of IBS.\n",
    "(### Would be great to have had the actual labels of the patients; then I could've had a true baseline clustering to \"beat\")"
   ]
  },
  {
   "cell_type": "markdown",
   "metadata": {},
   "source": [
    "<a id='set_up'></a>"
   ]
  },
  {
   "cell_type": "markdown",
   "metadata": {},
   "source": [
    "# Set Up"
   ]
  },
  {
   "cell_type": "code",
   "execution_count": 68,
   "metadata": {},
   "outputs": [],
   "source": [
    "import pandas as pd\n",
    "import numpy as np\n",
    "import matplotlib.pyplot as plt\n",
    "import seaborn as sns"
   ]
  },
  {
   "cell_type": "markdown",
   "metadata": {},
   "source": [
    "<a id='loading'></a>"
   ]
  },
  {
   "cell_type": "markdown",
   "metadata": {},
   "source": [
    "# Loading the Data"
   ]
  },
  {
   "cell_type": "markdown",
   "metadata": {},
   "source": [
    "The data are collected from the Dieta mobile application. Users can input their foods, drinks, medications, symtpoms, bowel movements, exercise, sleep, and mood. "
   ]
  },
  {
   "cell_type": "markdown",
   "metadata": {},
   "source": [
    "<img src='inputs.png' style=\"width:200px;height:300px\"></img>"
   ]
  },
  {
   "cell_type": "markdown",
   "metadata": {},
   "source": [
    "In this project, I will only use data related to patients' symptoms and bowel movements. Thus, the clusters formed will only be functions of patients' symptoms and bowel movements. This means that a patient's personal details, like their triggers and medications, will *not* inform the clustering whatsoever."
   ]
  },
  {
   "cell_type": "markdown",
   "metadata": {},
   "source": [
    "The data for **bowel movements** look as follows:"
   ]
  },
  {
   "cell_type": "code",
   "execution_count": 2,
   "metadata": {
    "slideshow": {
     "slide_type": "-"
    }
   },
   "outputs": [
    {
     "data": {
      "text/html": [
       "<div>\n",
       "<style scoped>\n",
       "    .dataframe tbody tr th:only-of-type {\n",
       "        vertical-align: middle;\n",
       "    }\n",
       "\n",
       "    .dataframe tbody tr th {\n",
       "        vertical-align: top;\n",
       "    }\n",
       "\n",
       "    .dataframe thead th {\n",
       "        text-align: right;\n",
       "    }\n",
       "</style>\n",
       "<table border=\"1\" class=\"dataframe\">\n",
       "  <thead>\n",
       "    <tr style=\"text-align: right;\">\n",
       "      <th></th>\n",
       "      <th>consistency</th>\n",
       "      <th>difficulty</th>\n",
       "      <th>pain</th>\n",
       "      <th>smell</th>\n",
       "      <th>completeness</th>\n",
       "      <th>urgency</th>\n",
       "      <th>duration</th>\n",
       "      <th>occurred_at</th>\n",
       "      <th>fake_user_id</th>\n",
       "    </tr>\n",
       "    <tr>\n",
       "      <th>id</th>\n",
       "      <th></th>\n",
       "      <th></th>\n",
       "      <th></th>\n",
       "      <th></th>\n",
       "      <th></th>\n",
       "      <th></th>\n",
       "      <th></th>\n",
       "      <th></th>\n",
       "      <th></th>\n",
       "    </tr>\n",
       "  </thead>\n",
       "  <tbody>\n",
       "    <tr>\n",
       "      <td>6162</td>\n",
       "      <td>40.0</td>\n",
       "      <td>NaN</td>\n",
       "      <td>NaN</td>\n",
       "      <td>NaN</td>\n",
       "      <td>NaN</td>\n",
       "      <td>NaN</td>\n",
       "      <td>0</td>\n",
       "      <td>2019-10-04 19:10:00</td>\n",
       "      <td>480</td>\n",
       "    </tr>\n",
       "    <tr>\n",
       "      <td>6161</td>\n",
       "      <td>40.0</td>\n",
       "      <td>NaN</td>\n",
       "      <td>NaN</td>\n",
       "      <td>NaN</td>\n",
       "      <td>NaN</td>\n",
       "      <td>NaN</td>\n",
       "      <td>0</td>\n",
       "      <td>2019-10-04 11:30:00</td>\n",
       "      <td>480</td>\n",
       "    </tr>\n",
       "    <tr>\n",
       "      <td>6131</td>\n",
       "      <td>50.0</td>\n",
       "      <td>NaN</td>\n",
       "      <td>NaN</td>\n",
       "      <td>NaN</td>\n",
       "      <td>NaN</td>\n",
       "      <td>NaN</td>\n",
       "      <td>0</td>\n",
       "      <td>2019-10-03 14:05:00</td>\n",
       "      <td>480</td>\n",
       "    </tr>\n",
       "    <tr>\n",
       "      <td>6103</td>\n",
       "      <td>50.0</td>\n",
       "      <td>NaN</td>\n",
       "      <td>NaN</td>\n",
       "      <td>NaN</td>\n",
       "      <td>NaN</td>\n",
       "      <td>NaN</td>\n",
       "      <td>0</td>\n",
       "      <td>2019-10-02 22:00:00</td>\n",
       "      <td>480</td>\n",
       "    </tr>\n",
       "    <tr>\n",
       "      <td>6102</td>\n",
       "      <td>50.0</td>\n",
       "      <td>NaN</td>\n",
       "      <td>NaN</td>\n",
       "      <td>NaN</td>\n",
       "      <td>NaN</td>\n",
       "      <td>NaN</td>\n",
       "      <td>0</td>\n",
       "      <td>2019-10-02 14:00:00</td>\n",
       "      <td>480</td>\n",
       "    </tr>\n",
       "  </tbody>\n",
       "</table>\n",
       "</div>"
      ],
      "text/plain": [
       "      consistency  difficulty  pain  smell  completeness  urgency  duration  \\\n",
       "id                                                                            \n",
       "6162         40.0         NaN   NaN    NaN           NaN      NaN         0   \n",
       "6161         40.0         NaN   NaN    NaN           NaN      NaN         0   \n",
       "6131         50.0         NaN   NaN    NaN           NaN      NaN         0   \n",
       "6103         50.0         NaN   NaN    NaN           NaN      NaN         0   \n",
       "6102         50.0         NaN   NaN    NaN           NaN      NaN         0   \n",
       "\n",
       "              occurred_at  fake_user_id  \n",
       "id                                       \n",
       "6162  2019-10-04 19:10:00           480  \n",
       "6161  2019-10-04 11:30:00           480  \n",
       "6131  2019-10-03 14:05:00           480  \n",
       "6103  2019-10-02 22:00:00           480  \n",
       "6102  2019-10-02 14:00:00           480  "
      ]
     },
     "execution_count": 2,
     "metadata": {},
     "output_type": "execute_result"
    }
   ],
   "source": [
    "bm_df = pd.read_csv('bms.csv', index_col='id')\n",
    "bm_df.head()"
   ]
  },
  {
   "cell_type": "code",
   "execution_count": 3,
   "metadata": {},
   "outputs": [
    {
     "name": "stdout",
     "output_type": "stream",
     "text": [
      "There are 6015 rows and 9 columns.\n"
     ]
    }
   ],
   "source": [
    "print(f'There are {bm_df.shape[0]} rows and {bm_df.shape[1]} columns.')"
   ]
  },
  {
   "cell_type": "markdown",
   "metadata": {},
   "source": [
    "The data for **symptoms** look as follows:"
   ]
  },
  {
   "cell_type": "code",
   "execution_count": 4,
   "metadata": {},
   "outputs": [
    {
     "data": {
      "text/html": [
       "<div>\n",
       "<style scoped>\n",
       "    .dataframe tbody tr th:only-of-type {\n",
       "        vertical-align: middle;\n",
       "    }\n",
       "\n",
       "    .dataframe tbody tr th {\n",
       "        vertical-align: top;\n",
       "    }\n",
       "\n",
       "    .dataframe thead th {\n",
       "        text-align: right;\n",
       "    }\n",
       "</style>\n",
       "<table border=\"1\" class=\"dataframe\">\n",
       "  <thead>\n",
       "    <tr style=\"text-align: right;\">\n",
       "      <th></th>\n",
       "      <th>occurred_at</th>\n",
       "      <th>symptom</th>\n",
       "      <th>intensity</th>\n",
       "      <th>duration</th>\n",
       "      <th>fake_user_id</th>\n",
       "    </tr>\n",
       "  </thead>\n",
       "  <tbody>\n",
       "    <tr>\n",
       "      <td>0</td>\n",
       "      <td>2019-06-20 22:00:00</td>\n",
       "      <td>stomach pain</td>\n",
       "      <td>25</td>\n",
       "      <td>60</td>\n",
       "      <td>480</td>\n",
       "    </tr>\n",
       "    <tr>\n",
       "      <td>1</td>\n",
       "      <td>2019-06-20 22:00:00</td>\n",
       "      <td>urgency</td>\n",
       "      <td>40</td>\n",
       "      <td>60</td>\n",
       "      <td>480</td>\n",
       "    </tr>\n",
       "    <tr>\n",
       "      <td>2</td>\n",
       "      <td>2019-06-25 18:00:00</td>\n",
       "      <td>pain</td>\n",
       "      <td>15</td>\n",
       "      <td>0</td>\n",
       "      <td>480</td>\n",
       "    </tr>\n",
       "    <tr>\n",
       "      <td>3</td>\n",
       "      <td>2019-06-20 16:00:00</td>\n",
       "      <td>urgency</td>\n",
       "      <td>5</td>\n",
       "      <td>0</td>\n",
       "      <td>480</td>\n",
       "    </tr>\n",
       "    <tr>\n",
       "      <td>4</td>\n",
       "      <td>2019-06-20 12:00:00</td>\n",
       "      <td>urgency</td>\n",
       "      <td>40</td>\n",
       "      <td>0</td>\n",
       "      <td>480</td>\n",
       "    </tr>\n",
       "  </tbody>\n",
       "</table>\n",
       "</div>"
      ],
      "text/plain": [
       "           occurred_at       symptom intensity  duration  fake_user_id\n",
       "0  2019-06-20 22:00:00  stomach pain        25        60           480\n",
       "1  2019-06-20 22:00:00       urgency        40        60           480\n",
       "2  2019-06-25 18:00:00          pain        15         0           480\n",
       "3  2019-06-20 16:00:00       urgency         5         0           480\n",
       "4  2019-06-20 12:00:00       urgency        40         0           480"
      ]
     },
     "execution_count": 4,
     "metadata": {},
     "output_type": "execute_result"
    }
   ],
   "source": [
    "sym_df = pd.read_csv('syms.csv')\n",
    "sym_df.head()"
   ]
  },
  {
   "cell_type": "code",
   "execution_count": 5,
   "metadata": {},
   "outputs": [
    {
     "name": "stdout",
     "output_type": "stream",
     "text": [
      "There are 6015 rows and 9 columns.\n"
     ]
    }
   ],
   "source": [
    "print(f'There are {bm_df.shape[0]} rows and {bm_df.shape[1]} columns.')"
   ]
  },
  {
   "cell_type": "markdown",
   "metadata": {},
   "source": [
    "<a id='EDA'></a>"
   ]
  },
  {
   "cell_type": "markdown",
   "metadata": {},
   "source": [
    "# EDA"
   ]
  },
  {
   "cell_type": "markdown",
   "metadata": {},
   "source": [
    "### Missing Values"
   ]
  },
  {
   "cell_type": "markdown",
   "metadata": {},
   "source": [
    "The percent of missing values per attribute is as follows:"
   ]
  },
  {
   "cell_type": "code",
   "execution_count": 6,
   "metadata": {},
   "outputs": [
    {
     "name": "stdout",
     "output_type": "stream",
     "text": [
      "Bowel Movements:\n"
     ]
    },
    {
     "data": {
      "text/plain": [
       "consistency      1.213633\n",
       "difficulty      49.609310\n",
       "pain            70.656692\n",
       "smell           66.932668\n",
       "completeness    41.463009\n",
       "urgency         55.627598\n",
       "duration         0.000000\n",
       "occurred_at      0.000000\n",
       "fake_user_id     0.000000\n",
       "dtype: float64"
      ]
     },
     "metadata": {},
     "output_type": "display_data"
    },
    {
     "name": "stdout",
     "output_type": "stream",
     "text": [
      "Symptoms:\n"
     ]
    },
    {
     "data": {
      "text/plain": [
       "occurred_at     0.0\n",
       "symptom         0.0\n",
       "intensity       0.0\n",
       "duration        0.0\n",
       "fake_user_id    0.0\n",
       "dtype: float64"
      ]
     },
     "metadata": {},
     "output_type": "display_data"
    }
   ],
   "source": [
    "print('Bowel Movements:')\n",
    "display(bm_df.isnull().sum() / len(bm_df) * 100)\n",
    "\n",
    "print('Symptoms:')\n",
    "display(sym_df.isnull().sum() / len(sym_df) * 100)"
   ]
  },
  {
   "cell_type": "markdown",
   "metadata": {},
   "source": [
    "These percents are slightly misleading, because the attribute \"duration\" has a preset value of 0. Here is a more accurate metric of missing \"duration\" values:"
   ]
  },
  {
   "cell_type": "code",
   "execution_count": 7,
   "metadata": {},
   "outputs": [
    {
     "name": "stdout",
     "output_type": "stream",
     "text": [
      "Bowel Movements:\n"
     ]
    },
    {
     "data": {
      "text/plain": [
       "0.8513715710723192"
      ]
     },
     "metadata": {},
     "output_type": "display_data"
    },
    {
     "name": "stdout",
     "output_type": "stream",
     "text": [
      "Symptoms:\n"
     ]
    },
    {
     "data": {
      "text/plain": [
       "0.7907623017584208"
      ]
     },
     "metadata": {},
     "output_type": "display_data"
    }
   ],
   "source": [
    "print('Bowel Movements:')\n",
    "display(len(bm_df[bm_df['duration'] == 0]) / len(bm_df))\n",
    "\n",
    "print('Symptoms:')\n",
    "display(len(sym_df[sym_df['duration'] == 0]) / len(sym_df))"
   ]
  },
  {
   "cell_type": "markdown",
   "metadata": {},
   "source": [
    "Where do these missing values come from? How are they distributed among users?"
   ]
  },
  {
   "cell_type": "code",
   "execution_count": 103,
   "metadata": {},
   "outputs": [],
   "source": [
    "def get_user_null_values(df):\n",
    "    user_null_values = {}\n",
    "    for user_id in df['fake_user_id'].unique():\n",
    "        user_df = df[df['fake_user_id'] == user_id]\n",
    "        null_proportions = user_df.isnull().sum() / len(user_df)\n",
    "        user_null_values[user_id] = null_proportions\n",
    "    return user_null_values\n",
    "\n",
    "def proportion_of_null_per_user(df, feature):\n",
    "    null_proportions = {}\n",
    "    user_null_values = get_user_null_values(df)\n",
    "    for key in user_null_values:\n",
    "        null_proportion = user_null_values[key][feature]\n",
    "        null_proportions[key] = null_proportion\n",
    "    return null_proportions\n",
    "\n",
    "def plot_null_proportions_per_user(df, feature):\n",
    "    dic = proportion_of_null_per_user(df, feature)\n",
    "    proportions = list(dic.values())\n",
    "    mean, median = np.mean(proportions), np.median(proportions)\n",
    "#     plt.figure(figsize=(10,4))\n",
    "    plt.hist(proportions, range=[0, 1])\n",
    "    plt.vlines(mean, 0, 100, 'red', 'dashed', 'mean')\n",
    "    plt.vlines(median, 0, 100, 'green', 'dashed', 'median')\n",
    "    plt.legend()\n",
    "    plt.title(f'proportion of null {feature} values per user');"
   ]
  },
  {
   "cell_type": "code",
   "execution_count": 106,
   "metadata": {
    "scrolled": false
   },
   "outputs": [
    {
     "name": "stdout",
     "output_type": "stream",
     "text": [
      "Bowel Movements:\n"
     ]
    },
    {
     "data": {
      "image/png": "[encoded data removed]",
      "text/plain": [
       "<Figure size 1440x720 with 4 Axes>"
      ]
     },
     "metadata": {
      "needs_background": "light"
     },
     "output_type": "display_data"
    }
   ],
   "source": [
    "print('Bowel Movements:')\n",
    "bm_features = ['consistency', 'difficulty', 'pain', 'smell', 'completeness', 'urgency']\n",
    "plt.figure(figsize=(20,10))\n",
    "i, j = 1, 1\n",
    "for feature in bm_features:\n",
    "    plt.subplot(j, 3, i)\n",
    "    plot_null_proportions_per_user(bm_df, feature)\n",
    "    i += 1\n",
    "    if i == 3:\n",
    "        j += 1\n",
    "plt.tight_layout();"
   ]
  },
  {
   "cell_type": "markdown",
   "metadata": {},
   "source": [
    "### Imputation"
   ]
  },
  {
   "cell_type": "markdown",
   "metadata": {},
   "source": [
    "As shown above, many attributes have a significant percent of missing values. I considered two options for dealing with this:\n",
    "\n",
    "**1)** Dropping data points with missing values.\n",
    "\n",
    "**2)** Imputing values for attributes based on that attribute's values in other data points from the *same* user. (I did *not* consider imputing values based on data points from all other users, because this would make each user more similar, making clustering both harder and less effective.)"
   ]
  },
  {
   "cell_type": "markdown",
   "metadata": {},
   "source": [
    "To quantify the value of imputation, I ran two simple 3-dimensional clusterings, first on data without imputations and then on data with them. The effect of imputating missing values turned out to be negligable: the centers of clusters, distances between clusters, and the makeup of clusters remained nearly constant. This is likely because imputing values, using their mean or median imputation, did not change the makeup of any one user; it simply gave each user more of their same data. Such magnification, however, does not affect clustering.\n",
    "\n",
    "Furthermore, I was encouraged to avoid imputation because of the sheer quantity of missing values. Many features are missing upwards of 50%! It is not statistically sound to impute values for such a large portion of the data.\n",
    "\n",
    "Thus, I will drop any data with missing values."
   ]
  },
  {
   "cell_type": "markdown",
   "metadata": {},
   "source": [
    "### Attribute Distributions"
   ]
  },
  {
   "cell_type": "code",
   "execution_count": 26,
   "metadata": {},
   "outputs": [],
   "source": [
    "def plot_feature_distribution(df, feature):\n",
    "    plt.figure(figsize=(20,10))\n",
    "    plt.hist(list(bm_df[feature]), range=[0, 100])\n",
    "    plt.title(f'{feature} distribution');"
   ]
  },
  {
   "cell_type": "code",
   "execution_count": 27,
   "metadata": {},
   "outputs": [
    {
     "name": "stdout",
     "output_type": "stream",
     "text": [
      "Bowel Movements:\n"
     ]
    },
    {
     "data": {
      "image/png": "[encoded data removed]",
      "text/plain": [
       "<Figure size 1440x720 with 1 Axes>"
      ]
     },
     "metadata": {
      "needs_background": "light"
     },
     "output_type": "display_data"
    },
    {
     "data": {
      "image/png": "[encoded data removed]",
      "text/plain": [
       "<Figure size 1440x720 with 1 Axes>"
      ]
     },
     "metadata": {
      "needs_background": "light"
     },
     "output_type": "display_data"
    },
    {
     "data": {
      "image/png": "[encoded data removed]",
      "text/plain": [
       "<Figure size 1440x720 with 1 Axes>"
      ]
     },
     "metadata": {
      "needs_background": "light"
     },
     "output_type": "display_data"
    },
    {
     "data": {
      "image/png": "[encoded data removed]",
      "text/plain": [
       "<Figure size 1440x720 with 1 Axes>"
      ]
     },
     "metadata": {
      "needs_background": "light"
     },
     "output_type": "display_data"
    },
    {
     "data": {
      "image/png": "[encoded data removed]",
      "text/plain": [
       "<Figure size 1440x720 with 1 Axes>"
      ]
     },
     "metadata": {
      "needs_background": "light"
     },
     "output_type": "display_data"
    },
    {
     "data": {
      "image/png": "[encoded data removed]",
      "text/plain": [
       "<Figure size 1440x720 with 1 Axes>"
      ]
     },
     "metadata": {
      "needs_background": "light"
     },
     "output_type": "display_data"
    }
   ],
   "source": [
    "print('Bowel Movements:')\n",
    "bm_features = ['consistency', 'difficulty', 'pain', 'smell', 'completeness', 'urgency']\n",
    "for feature in bm_features:\n",
    "    plot_feature_distribution(bm_df, feature)"
   ]
  },
  {
   "cell_type": "markdown",
   "metadata": {},
   "source": [
    "#### Intensity"
   ]
  },
  {
   "cell_type": "markdown",
   "metadata": {},
   "source": [
    "There seem to be a lot of weird string \"intensity\" values."
   ]
  },
  {
   "cell_type": "code",
   "execution_count": 29,
   "metadata": {},
   "outputs": [
    {
     "data": {
      "text/plain": [
       "array(['25', '40', '15', '5', '20', '70', '60', '50', '10', '30', '90',\n",
       "       '80', '100', '35', '55', '45', '65', '75', '95', '85', '16', '42',\n",
       "       '14', 'c8072541-e336-4b50-bd2b-e5a7b0c465d4',\n",
       "       '80c3dc4e-8c84-4879-a429-446ac6040744',\n",
       "       'f87148b5-350a-40d9-852a-211a8031ff53',\n",
       "       '5d7c7096-7d85-4467-98e0-62c2ca37bd1a',\n",
       "       '5a80cb69-caed-48fb-8002-d45f52fc51c0',\n",
       "       '0155eea7-1683-4ad4-84cc-5fa9f3e19270',\n",
       "       'e98e388a-4c32-40a2-a5a0-dea2d1c2c819',\n",
       "       '9d7fd1ea-33cf-4a73-bd6d-505aa7a0aea1',\n",
       "       '4c7ec210-a2a5-4076-882e-0842378c0bda',\n",
       "       '9810d9c0-da80-4648-ad99-c2c92e11c933',\n",
       "       'f242dbfd-258d-477c-9fe4-d706254f7818',\n",
       "       '6529e7f5-35d6-4da7-953c-f9dcd2509a62',\n",
       "       'd536bd45-30c5-48ab-bd0a-fdfba78a61b9',\n",
       "       '1285ace7-6cf0-4af8-9156-967a1883d24e',\n",
       "       'a3b6584a-400d-4354-9bc2-94205b0a956c',\n",
       "       '3f3f8720-b737-402f-9a16-70adffc53456',\n",
       "       '5f7d3b52-d4cf-46f7-b433-3bf571b62e06',\n",
       "       '4e437a66-cfb5-430e-85d8-b4bd51047bc8',\n",
       "       '61590ed6-7e28-4bd3-9c46-a7cec2745138',\n",
       "       '34959a9e-48ac-457e-b695-1d3928637408',\n",
       "       '27dfafdb-890e-49f1-addf-fa8a5afed24b',\n",
       "       '457365b4-b9e8-41b7-8960-2da58f6d28c9',\n",
       "       'e4e06751-7d26-419b-9ff7-fd9d8651cb42',\n",
       "       'c50321eb-c5b5-46fc-9b01-d83563c13057',\n",
       "       '0e745d19-d4df-4a9d-aacf-2cbe50967938',\n",
       "       '6ccad77d-a964-430f-be40-77bed4868cdc',\n",
       "       'e6bfe5c1-563a-4702-a50e-0c321b086e79',\n",
       "       'd16667ff-5395-4911-b9ab-90ac3e235439',\n",
       "       '7ff742ef-6473-485f-8817-69ae85685abe',\n",
       "       'fc2b6152-3c67-448a-9262-b03265ef4474',\n",
       "       '67fe0d51-5bde-494a-a59d-2de7b85ab3cd',\n",
       "       'a66ee20a-5a75-419d-a733-40fca7ec8bb1',\n",
       "       'd146cd8b-ceb2-4558-9fba-8b35ed707c87',\n",
       "       'f7ff336f-c4b4-4b2e-9409-d4cfa13da008',\n",
       "       '8727710a-2430-4a82-b94a-e0d3fb4c037e',\n",
       "       '4863e38c-70cf-4197-afc3-058f0b783f3f',\n",
       "       '93c1479c-24f3-4e6e-9ca0-bdc360243be5',\n",
       "       'c9817023-9828-42cb-a921-bd0345b66041',\n",
       "       'd9c5a95a-1f67-48a8-8e2d-6104d58451cd',\n",
       "       'b579dc13-c4b5-404d-8e40-9ed4f2e35d2a',\n",
       "       '60295a5f-93b5-4bd1-ae74-9923e6861947',\n",
       "       '3c64cb72-984b-4758-867c-7505b7617ddf',\n",
       "       '0d4b02dd-2f89-4770-a897-3b0714f7602c',\n",
       "       '8d86ae0a-e1ba-49ca-b1d7-240a9e8f3bae',\n",
       "       '15e0436a-1ce9-4820-8180-c8eadea8957b',\n",
       "       '82c2dc17-9bb3-4be8-8bf5-ce8f6dae845c',\n",
       "       '667a36c0-1f48-4d1d-b845-42b0f4fd64a4',\n",
       "       'a37e787d-8c81-4920-a6a7-b7cea45aff03',\n",
       "       '50e74be3-5ee8-4929-ad07-17ce6a84c45e',\n",
       "       '9fa8d47c-8594-4a84-9ea5-b1b636e83eed',\n",
       "       '66321e9c-2a6b-4f2f-a979-0a3e6681e1fc',\n",
       "       '41a25c03-87ca-4f13-951f-d6aff8341fd7',\n",
       "       '93ec5e34-8502-471f-986d-8c24e93f5238',\n",
       "       '9db0bca6-0947-432c-813f-f4b1bfb1620b',\n",
       "       '2da2112c-0e7f-4793-8e9d-2a513f81de55',\n",
       "       '0e2a53dd-7023-43fe-824d-c7151e70b66f',\n",
       "       'ff1e3014-01f1-4f88-afa5-fdf2bd393eed',\n",
       "       'a6bd67b2-254d-4c0b-83b9-485da43125f3',\n",
       "       'f91c7fd9-42ee-4cd5-8499-bdb87aa9ab86',\n",
       "       'ce61d38d-8190-4fad-a722-c0066eb88019',\n",
       "       '6b3af455-99c1-48f8-9f20-b55847899fcf',\n",
       "       'a813a35c-e1d3-45ff-9ca0-33c4ee2c5d38',\n",
       "       '658a1bc4-d16b-47aa-9f4c-c8192e08fa53',\n",
       "       '7f842bf5-9f2f-4dc2-841b-948fe178969c',\n",
       "       'd0432077-5876-4a04-ab4c-68b4c15b5223',\n",
       "       '67ae5a39-ad7a-4319-adde-1dcc2cc1165b',\n",
       "       'ac5412df-cb66-40a2-966a-6a976d6edecf',\n",
       "       '4f583a5d-ebdb-4105-ba95-0a81d9bbf181',\n",
       "       'f0b04857-42a7-49bb-998c-63de5be52a80',\n",
       "       'fb0abaaa-0935-424d-ba46-7b2880b89c84',\n",
       "       'bf1240d4-2686-46ed-ba8a-2c79b9a6ac9a',\n",
       "       'b537d957-3989-4cda-bd88-722e06eb03da',\n",
       "       '03649b3c-a88c-452a-8b4f-a1f2d97c1f9c',\n",
       "       'a6820fac-7abd-423a-8414-b7b119ead834',\n",
       "       '91aa7ef2-3d6a-4931-b745-12d56ad38dc2',\n",
       "       'b2b9a7fe-9c59-4675-b73e-5cbf736ceafd',\n",
       "       'a4a0cb9e-6894-4492-b4ae-5cc8b081777e',\n",
       "       '1de2a9c3-fc19-454d-b3fe-48591cf20111',\n",
       "       'e99327f9-0906-4393-9a2e-716d33d3f5cd',\n",
       "       '32f95b3c-9f18-4bbb-83b0-5de8eadd51fe',\n",
       "       '04ef68ff-b684-4d66-8be4-61e79dba911a',\n",
       "       'fb23950b-722b-4d0a-b9ea-1d1dbda2664a',\n",
       "       'bce06033-349f-458f-8e17-3efa613351c5',\n",
       "       '60aa3b17-8c8f-4732-b190-5c4d6c2d48f0',\n",
       "       '499c10c6-37fc-4a37-a0a0-99cde36e55e2',\n",
       "       'fbe09f96-f68c-4cac-8e29-469a05020c79',\n",
       "       '3f52393c-c681-4cbe-bb5b-e6dfcb5eb13b',\n",
       "       'aec1c522-702c-4abf-874f-ce76a08d0a6a',\n",
       "       '6cb9dce8-2c39-46b0-85d0-6996e3483f8b',\n",
       "       '384c3f24-7063-404a-bc4b-5883e45a4fb0',\n",
       "       'a6dcd2b4-9da5-4e08-8534-d92ee6b86f79',\n",
       "       '4c81eab6-d04e-422c-866b-d810b4bc414c',\n",
       "       '87bb4ef6-3dcc-4537-9f88-29fe66079ba7',\n",
       "       'b0691b9b-d144-4683-9ce3-4542c0987254',\n",
       "       'e52a19e5-27f5-4088-8364-a90d0bd20213',\n",
       "       'eec436ff-e223-40ac-826a-5723cb164488',\n",
       "       'cf10f95f-d777-42ca-bdaa-16f1c5f64b23',\n",
       "       '9678600a-30a7-4af9-8efe-1b9a9f725f08',\n",
       "       'da97bfd0-db5d-4831-b97c-a5558bf431d5',\n",
       "       '83665688-aac6-43ed-b5f8-e627f0d5a38c',\n",
       "       '99370a91-31e5-4f44-86cf-d862f8dde6cc',\n",
       "       '40dad0f2-e0fc-48ab-abff-0a2d269382ac',\n",
       "       '784fa7e7-010b-4141-86ba-c8d966cdac1f',\n",
       "       'e3ea6954-5781-4196-9882-498d151a070c',\n",
       "       '524afeb1-39cc-4862-bb22-c5f3f35e969e',\n",
       "       '590a48c7-3cb0-457e-832d-2fd6c70c2966',\n",
       "       '59389773-7edb-403e-8fdf-b2efe1671a6e',\n",
       "       '90bcc423-1121-4624-9275-e66a8ee54e8b',\n",
       "       '7fb4f190-6269-4042-8275-8c02957ec03f',\n",
       "       '88a1e329-079f-466c-821a-a7ad841fb00d',\n",
       "       '99315e3e-0a9c-41c0-8417-d1377b48db82',\n",
       "       'b175c751-9546-4975-80ab-02f2a19ba0e8',\n",
       "       '57f525b6-461c-42f9-a7cb-093e0857bc89',\n",
       "       'cb51526a-a0f5-471d-8188-c205c7e3ab88',\n",
       "       '6bd554a8-6d6c-4759-8730-fbf2a6ea7dde',\n",
       "       '5f25386b-7b46-4c74-801e-afc2b68c9617',\n",
       "       'a1c90452-b0de-46c1-8ca5-644f3bd94bc1',\n",
       "       '9abe810b-3a25-48e6-b6a3-b62de27751ea',\n",
       "       '59698dcc-f019-4e8a-9bb6-3a025dfb0780',\n",
       "       'aa600691-2747-4912-9d05-d727966863b2',\n",
       "       '77d5458e-111d-46f0-be29-4fa6b09c891d',\n",
       "       '753b0e60-017e-4906-ad9b-9e5c26f8fc54',\n",
       "       'f02446c7-c557-4393-ad4c-5f4294fcac8f',\n",
       "       '0eb83672-d785-46d6-9334-756cec71468c',\n",
       "       'b6293ae3-51fb-42e7-aa0c-4a27024a14e6',\n",
       "       '2d372195-29da-4710-ba9c-1603f4a4000a',\n",
       "       '384f2a0a-7a7b-48e4-b3bf-4c97046eeff3',\n",
       "       '0e33be06-db1d-48cd-9ee2-b75d43668c61',\n",
       "       '8be15144-48e1-4887-bb59-d60e9feea222',\n",
       "       '53a28ef1-321a-4323-b503-397bfdd35542',\n",
       "       'fa40f5ac-cf46-4ac6-a087-239f9ac95d6f',\n",
       "       '451bf765-77c8-4bee-9def-1d28143bde6d',\n",
       "       '1d33fc0c-ec4b-4fe4-82cb-2b65cffa5c74',\n",
       "       '8f604495-8382-441a-9806-796b24dad692',\n",
       "       '9a93b207-d027-4210-9188-525c673a4275',\n",
       "       '04a39741-f3a0-473d-8ebb-6c7b6ecc9bb9',\n",
       "       '52e4780f-43d5-4a0c-931b-a5fa10c9af87',\n",
       "       'eaaedee9-dfbd-401f-8621-91c1675a95b2',\n",
       "       '2d7e6924-a556-4485-bef8-5049c913fe61',\n",
       "       'a4e5f937-2a2b-4bb2-9d1b-ec1eee704314',\n",
       "       'aac15f9d-023b-4309-8599-0f81419a28f4',\n",
       "       'e988d20f-c6c9-448e-b544-d3e91641c07e',\n",
       "       '1489f088-795b-4603-8810-bdf1e2d1c32f',\n",
       "       'e2b1dd23-7485-4fcc-b2b2-639bc7fb440c',\n",
       "       '6c0fe2de-0f12-4ca4-89e2-9efce5f41751',\n",
       "       '9ab5a9e2-f82c-41a8-99f4-229723b18276',\n",
       "       '7fbe86f4-232a-482d-88ce-ec79b0e0cb19',\n",
       "       '71d05a9f-f956-4cff-b353-a721e6e5b8a3',\n",
       "       '8af66127-8909-450c-ad38-faa9b98c5de1',\n",
       "       '3ae62a3f-37e0-4197-839f-2779635986bf',\n",
       "       'e6529930-ef73-4ece-8ca8-9e292eec5c51',\n",
       "       '6a0ace63-af44-49f9-91cb-8061a0a54dd0',\n",
       "       'ccfc4ce1-a7d2-4e77-a67b-2a3f9b5e69f4',\n",
       "       'f1fdd46f-6033-4328-8490-19af0cf5e037',\n",
       "       '61563e9e-3334-47bb-9b5f-2a5139049dba',\n",
       "       '888e7a58-07f2-44b0-b695-9373ceddd695',\n",
       "       'c218825f-f623-4d21-a94c-e79dfdd4df89',\n",
       "       '3dea6a23-0d26-409f-b7d1-399de212c2f9',\n",
       "       '7bb71171-3d01-4840-b728-1f8d96a8a3ab',\n",
       "       '16fca72a-fc97-4427-a91c-45146dc208ee',\n",
       "       '3c593f1b-12c6-4c53-9560-b1d5f1467969',\n",
       "       '31a9cb08-a01f-4e53-b2e9-56a8121c3446',\n",
       "       '8d0af22d-db53-4576-b764-04f1fc197387',\n",
       "       '0913d621-c117-42a1-ab20-9042a8ab2a7e',\n",
       "       '0edc7de6-6ae7-4cce-a26d-4e404f6be839',\n",
       "       'e1e7fb98-3447-4345-97d5-459e5dc8b9bd',\n",
       "       '4ca50542-9be7-40d3-a3f8-78d92ef00af4',\n",
       "       '442b1ca3-9a8d-41b3-9c84-c74b3b190bca',\n",
       "       '507006ab-b97e-4946-94fd-cce193a3a77c',\n",
       "       'b1839a48-9411-4c7f-a25e-b85eb02c8359',\n",
       "       '72c2dcc3-0f68-431c-bef9-1b9f2985a479',\n",
       "       'aed9d472-a4c1-4b93-bd1d-11084544ada1',\n",
       "       '798645ce-6ff5-4efc-9c4e-85f4b2bbbcac',\n",
       "       'eb79c525-801e-423b-b3c5-94264ce8cbaa',\n",
       "       '7a9ab4af-fb58-4995-b04d-a57ebcb82d6f',\n",
       "       'b5acef63-3862-4432-91e2-746b76d8e219',\n",
       "       '020a1929-884d-4c3b-b3ac-e2f77208d1e7',\n",
       "       '30e60c9d-7ec5-48de-9500-1c69fc5dfd46',\n",
       "       '9feebcb6-485e-478a-8780-a5a6d9e7ca40',\n",
       "       '37ac0fa7-ac44-4862-927d-665858f0c64d',\n",
       "       'ba061f37-ae31-4d26-8973-b79ee744bcac',\n",
       "       '98d588f6-0a64-4f16-b7f0-b5d413df0988',\n",
       "       '76be5565-45d0-47a3-add3-4b82c6df99f9',\n",
       "       'd3983532-ceb5-4a8f-9550-01c875040907',\n",
       "       'ad7da2d3-ec58-4cff-8a3e-765414a6950d',\n",
       "       '0b31ed97-9656-4921-8472-7eadba2c986d',\n",
       "       '910595e7-6a43-4357-bc54-29a713cc8896',\n",
       "       'cada7cf6-6e1d-46d2-aa01-97852b9d1792',\n",
       "       'c386965f-2dc1-4151-a181-2c42cec15b4b',\n",
       "       '87bf0a11-518f-4b83-8931-c1a77a03a7cc',\n",
       "       'e09e74bc-ca4a-4367-970b-75253f2cc755',\n",
       "       '66a0bbab-9ae4-4e9d-9904-6c64da2a31dc',\n",
       "       '6401bf20-f783-4127-ae31-727223b8add3',\n",
       "       'fe9357b8-3b78-4353-93b3-2d9aac941c28',\n",
       "       '36013497-e9f1-40aa-b7e6-81c36bd715f3',\n",
       "       '738db664-9199-4757-a176-86a865ff8b93',\n",
       "       'f6ecefc0-1d5e-4746-810e-ff5310fb661d',\n",
       "       '4db91d5f-1ae1-48cc-bbfa-a750c25807f8',\n",
       "       'a7ec862a-4565-458f-806c-116bc5e25517',\n",
       "       'd50be048-a14e-4491-b00d-a62692d5d102',\n",
       "       '51892374-c158-496e-97f5-6a928c0020d3',\n",
       "       '7c1c1ad4-608a-4b6f-97dc-da5c920ce4dd',\n",
       "       '727e387e-8ae6-44ea-915c-7f654c070f33',\n",
       "       'c7a4f4eb-bec5-4d41-9db5-0aac17fbbf49',\n",
       "       'b79ad404-9dfd-452b-bec4-d380ad505f87',\n",
       "       '908c6af6-5a1f-460e-8f8b-b93f413f11e0',\n",
       "       '6faf280c-f616-4dc0-846c-5f7bf41675b4',\n",
       "       '9cfa8b24-ef2a-498f-8dc6-543d11e3b834',\n",
       "       '2a02f04a-eb63-46e3-bd83-15a6c51b07b8',\n",
       "       'a5338b14-4fdd-4f0e-afbd-cac78b028c91',\n",
       "       '03060ad0-77d1-47c9-861c-2df448617ba6',\n",
       "       '5fcf8478-77a0-4e6a-9f1b-df8109aa3269',\n",
       "       'bd0fb9d4-7d25-4b04-b25e-4e11dedda3cd',\n",
       "       '05bc49c0-72d2-44b6-bd06-adf7efc2f6d5',\n",
       "       '799b23e5-8313-4272-a233-9349abe9e117',\n",
       "       '116186a9-15cd-46c3-8a6b-2a48c57a2fda',\n",
       "       '417df1a5-c29b-4930-b97d-0309297ae5f7',\n",
       "       '7c0d8381-eeb2-477d-8577-943a2f2c8734',\n",
       "       '0f9be24e-b00c-4e30-998d-aa60ae7e2082',\n",
       "       '1ed66d17-c58c-42f2-9853-7ee67a1d0bad',\n",
       "       '1dc46858-abe3-49b2-aff0-9ddaad10d7df',\n",
       "       'e6626d85-84aa-4e2a-a95c-d5162440952e',\n",
       "       'e3f6638c-8b88-41c4-9f82-bf068f6ff7b0',\n",
       "       'a70cd5d7-6ee2-4052-a279-71de5276add5',\n",
       "       '869beb89-4343-479a-8c1c-93c59784e988',\n",
       "       '5c388d9c-335e-4398-848a-4cabb13c7b0e',\n",
       "       'f79cfaef-e3ae-4362-9290-c2ed004c2abb',\n",
       "       '11035cef-1d5a-45c9-9013-2b518bb263f1',\n",
       "       '40653d02-9835-4371-bd1e-6e85d5c7323d',\n",
       "       '57a3bb56-b8af-46ee-a2ac-d251bf208047',\n",
       "       '547fe91c-f4e8-4681-b65c-b8be38c65cc7',\n",
       "       '891d9862-e7f6-4b28-afdd-0602f7241632',\n",
       "       '82b1382b-1976-418a-8257-209eeff72f16',\n",
       "       '7f65f85b-5642-4db5-80d9-0c1ab326cc4c',\n",
       "       'b94e2fe8-632a-4806-b98c-511234d23f62',\n",
       "       'b32bc015-3f8b-40f5-9f01-ee1f10972ca4',\n",
       "       'c3398e6b-bf6d-4ca2-8bdf-dc7774d766f6',\n",
       "       '57bf4084-768a-42dc-ad6c-157d7f765df5',\n",
       "       '884ef4a2-ec71-4f2d-813b-6d63408c4cb4',\n",
       "       '64f21dfd-6efa-4327-9d1b-919d4aa579f0',\n",
       "       'b3dbdc0c-da20-4467-b82d-53d3b65c3115',\n",
       "       '3e070337-6bfa-4b6d-82bd-9186852381aa',\n",
       "       'bc9bffe9-5570-4d43-a39f-f73d7c9e527f',\n",
       "       'cbcef247-5b16-4896-8df0-a3e6e8ed536c',\n",
       "       'f627847d-ce27-48a6-a7bd-d514d1103b08',\n",
       "       '54478e6c-7897-4b79-b988-54b9949c1dd8',\n",
       "       'a35d504b-ef2b-40d0-8891-444feb38cb18',\n",
       "       '48fdae69-107d-41a5-b8a8-9a028e8da2d6',\n",
       "       'f0a67467-8d74-4921-9355-48020fb782e7',\n",
       "       '0e228b41-bec1-44bf-a139-0576f74d0ae2',\n",
       "       'f82de2bf-39b2-4b27-a241-cce2991d1c96',\n",
       "       'c8e8a4a0-19b9-4c77-bad5-307a23535f64',\n",
       "       'def3fc79-a8fe-4d57-8346-d2b67db2c61d',\n",
       "       '8a3788f0-1efc-425f-b08c-ef692493d5fe',\n",
       "       'd3325947-3747-4c52-a849-7c622e8b637a',\n",
       "       '02b85c9a-8be4-40f7-aacd-b7cd7a0809c3',\n",
       "       '7a11c68b-6ed7-49ee-b4bd-a4209bb93d58',\n",
       "       '068b76dc-e7b4-4008-982e-56a00340f9d6',\n",
       "       '64e21437-35ec-4388-8122-dd0ea575bbda',\n",
       "       '1cd43315-9fb2-471f-a82e-44f9fc3665aa',\n",
       "       '0b5f5378-c94b-405d-99ad-f98d1ffc62d8',\n",
       "       'b5ee5388-3589-42eb-bae8-083fe81623b8',\n",
       "       '93b9f9d0-a4a5-4b69-b87d-a6bedeeb6041',\n",
       "       '1cb0ffec-f2e4-4f35-91c0-89077e84005e',\n",
       "       '3752b191-0386-44af-bb35-975c1a06cdb2',\n",
       "       '65a9f348-c5fd-424f-84a5-b566c27f1a49',\n",
       "       'd04f92db-be7c-4350-80a1-989c26544646',\n",
       "       '50ac8e5d-00bc-4b07-be69-6078b569ce6f',\n",
       "       'b1be1702-1d22-4a93-beb6-66f98bcdee33',\n",
       "       '3354b71d-3488-4dab-b8b0-71f2919b9623',\n",
       "       'cb2c3b8e-7bfe-442b-af4f-1bf93287960e',\n",
       "       'ce2b3171-b530-4c3b-9622-77eb94b30d57',\n",
       "       '0731185b-e90b-4cc6-8ee9-45ef575cc61d',\n",
       "       '1c36f8f2-d626-4486-8feb-9124186b6481',\n",
       "       '8b29619c-93bd-42fc-bdd0-74044eff0a46',\n",
       "       '4f5f51fd-5ea3-4896-91a4-fcde3de08fbb',\n",
       "       'f7ff15da-3226-4077-83d9-859274e952bc',\n",
       "       '20879cbb-08ed-44ce-b560-c4834acf1876',\n",
       "       '01e20e05-71b6-4749-ad0d-b0847c8043f9',\n",
       "       'b4ec964f-00bb-42be-9690-e791e05cd72a',\n",
       "       '92a92071-1318-4f5d-ae08-666a20494d4c',\n",
       "       '72b84c3b-d379-4c02-a24c-f64b9c294e96',\n",
       "       '5c24c722-39e9-4741-9ebb-28d0bee0ac6d',\n",
       "       '199d3d42-e478-43e3-997f-7a757c3db706',\n",
       "       'd22373c1-3e94-4029-964b-e57be83f9df7',\n",
       "       '870c588c-9a71-4cdf-9114-3c0ed33a7c03',\n",
       "       'bb75e751-f339-4db2-95eb-b64d93f44092',\n",
       "       'd5012edc-f1e9-48e5-97e6-9a93ca9fab24',\n",
       "       '222d7c28-0766-4005-a3aa-325ceda8e089',\n",
       "       'f34bcb26-b2b0-4a9f-a194-7e913114bb7c',\n",
       "       'ff2c0d75-a901-4201-9412-ef9a08b1584b',\n",
       "       'c8384360-65ec-4946-b739-0a47a5cc163e',\n",
       "       'b66c4df3-9bd1-467e-adc7-be36e9f92d8c',\n",
       "       '4fc52875-1943-4645-a5e3-8536dbcf0d6c',\n",
       "       'b9779160-8368-4f1c-b22f-dba71ad08acb',\n",
       "       '5d6c0591-505e-4a1a-bd06-dcaddfa8dcaa',\n",
       "       'fa1d823b-dbee-43f5-8dfd-56c6258dee6a',\n",
       "       'eadaefa6-12ed-4415-a438-38fb3f70665f',\n",
       "       'daec5223-edac-4ad4-ad54-3b20d0f99ad3',\n",
       "       'e130907a-8eab-4ba2-9034-6d9510b7ee5b',\n",
       "       'c4daaa22-6da0-4663-a89e-f5a45d8f8e98',\n",
       "       '510cbcef-7ae9-4642-926c-f3a82046fd99',\n",
       "       '46020f4a-520a-477e-a980-fa198cc2e2c3',\n",
       "       '5381368a-eefd-455c-b924-e4db2c735a7a',\n",
       "       '06a2f38a-8616-428a-b49b-7000a9978738',\n",
       "       '4fc7b8ae-9ca9-4789-a62d-a220cea5688b',\n",
       "       'f15969a1-6464-4bc0-b0fb-ed164218ed1f',\n",
       "       'cb9064ea-c206-4e80-a7a9-413070c7f40e',\n",
       "       '90ee7de6-1687-4df2-95bb-0466ad0d99aa',\n",
       "       'd9737c3d-97c2-4201-ac56-6adaea51729b',\n",
       "       '520a74fe-ea86-47cd-94cb-ab39f5e05e28',\n",
       "       'b8daf50c-3720-41ee-b211-eb4534bc34aa',\n",
       "       'c9e779a2-2ea6-4216-874a-d9dabe2379f3',\n",
       "       '70acab2c-646a-4b4e-8308-5f68cd479653',\n",
       "       'd18149fe-987e-4c04-8fc3-922dab7c445b',\n",
       "       '24a59e23-9a8e-4a58-82c3-86dedc9293f6',\n",
       "       '7b34f882-8704-4af6-8f79-9230679c907e',\n",
       "       '5d94ea07-fd0c-478e-827e-6ab764b40fa6',\n",
       "       'a9d9d9f6-e098-4c87-a424-14cd02fd3a55',\n",
       "       '97070978-fda1-4b81-8355-22159fdb0887',\n",
       "       'fb9054b2-a3e9-4b04-b5b1-73cda3f73857',\n",
       "       '22aefe95-e7c0-48b8-b6c0-0c104985d8c2',\n",
       "       '7f91678e-8f08-407d-8110-f830885ed1ee',\n",
       "       'f1fbb723-a874-4f55-98ad-034d82464c7d',\n",
       "       '13a061f5-a403-479e-8ef4-5adbeb2ea2d0',\n",
       "       '9dca87e9-113a-4e87-8450-16eef60bbf2c',\n",
       "       '013143b0-15b9-491d-be00-9aecd1714b68',\n",
       "       '3dee09e9-b9f4-47f1-98ae-e8ab4ba8a625',\n",
       "       '0daf6cff-eced-4a81-a92a-6bfa01176292',\n",
       "       '56d90e35-8e88-45a3-ba89-1938daf5cfd8',\n",
       "       'c4686e9d-4f6d-45a8-8c57-1b6c968537dd',\n",
       "       '7d4bca3e-c0b7-4875-8e45-fa777b98a021',\n",
       "       'd427415a-03bd-4f4c-a6e6-addfb73a7c47',\n",
       "       'c090ae22-ca8b-4545-b1d0-4947b88c2ea9',\n",
       "       '69db74aa-dc5d-48bb-9b21-3dc2bb862d18',\n",
       "       '442e97dd-4a99-450e-884c-5f507dfaa65e',\n",
       "       '79d0e40a-f194-44af-81be-0b6830fc9f2e',\n",
       "       'f473f31a-b98e-472e-9d07-f21424201f7b',\n",
       "       'f69a5f4c-2cbd-4a68-aef5-46926510f092',\n",
       "       'a84cbd14-4be9-4b3b-8ee7-633d298d0964',\n",
       "       '6e62cd91-64a6-4fcd-afb4-a3228e665089',\n",
       "       'beb52663-5e3a-4a19-afd9-99d63e8acaaf',\n",
       "       '4ccd1e96-51ff-4459-aa4c-1eed240bc8a1',\n",
       "       '4ad75484-fbe4-4926-a98a-5c4b94a513a3',\n",
       "       '573087d0-b03f-446e-9ad9-f7d2d071e37b',\n",
       "       '9f14bea6-b677-4189-a15f-3a28e5089fb9',\n",
       "       '698fd6d4-02ff-4a10-9c2a-5268565f5fd7',\n",
       "       'df6853fc-42af-42ed-9503-86a00d66c9d1',\n",
       "       '9ab49a8b-e4c9-4b7c-a2f9-c599a0aa7b30',\n",
       "       '9134678f-d8d6-4b7b-8ef1-3fa56383e6ba',\n",
       "       '2a2c2885-92f0-48a8-b921-da5b447fa3bf',\n",
       "       '4d422ffc-52cd-4b7c-9c3c-eb54d6a98682',\n",
       "       'a042a25b-622e-49f8-85e7-b12957472568',\n",
       "       '80bda63b-ca08-4989-a8e7-d30cef1f62dc',\n",
       "       '604c9083-cc5f-49ab-b571-81986a17ceb5',\n",
       "       '14255141-7597-402d-a59f-82749ccbc4ee',\n",
       "       'b6873b1b-fd99-45c5-b6e9-b34ed5c89886',\n",
       "       '6e2d2cf8-c277-454d-af35-ae0c63643ce1',\n",
       "       '70d794f3-0951-4caa-8e08-bff19b2105e0',\n",
       "       '759e0180-05b7-44de-983f-5da62e0a0148',\n",
       "       '49361c40-343d-48fc-9fe8-439fb32296ca',\n",
       "       '72e6e839-0939-4dcb-8e22-32b974f87263',\n",
       "       'a2d16960-2c92-4f96-9d54-f9e89c000f29',\n",
       "       '489c60b2-8f10-4571-b7ef-aada80173ae1',\n",
       "       '31825339-6e51-4f14-b838-51108d175b24',\n",
       "       '993d4c85-0e4c-4db6-8244-635c15d3929e',\n",
       "       'beca7fd3-19db-4af5-b5b3-6f83eeae1b0d',\n",
       "       'd44acb7d-4fee-418a-bca5-9e76d4ba51c4',\n",
       "       '51d35aee-5776-4a1d-93eb-04d6d1d26a54',\n",
       "       '4013b17b-65d9-4889-aacd-f4604716d488',\n",
       "       '46799e72-53b4-487b-b974-a32c7cb755ec',\n",
       "       '06f2f4ae-6206-4329-b508-0b792bdb3220',\n",
       "       '04f94d24-a26c-443c-a319-519c2e91b8b0',\n",
       "       'a8876faf-ed93-43b8-968c-74e3c3f77f33',\n",
       "       '8d021015-0d61-41d3-b32c-2b134d0c4fd6',\n",
       "       '1bd9b6f5-f115-4629-836f-c438da48c706',\n",
       "       '559d579d-4828-4f9f-9670-4099a0ad5b1e',\n",
       "       '05c76b3e-7246-4062-977a-2fa6fea8935a',\n",
       "       'fc2afcfc-724b-485a-9338-b6df2fa80350',\n",
       "       '5bfd29b1-172d-48de-8518-3bfa74c44197',\n",
       "       'a163c1fc-0836-437b-8b30-8bb2b4122a3a',\n",
       "       'be041d4e-a22c-4a68-9d95-617ae02089e0',\n",
       "       '124cfc09-be8e-4871-956c-2b61012588ce',\n",
       "       '68eb8b7d-96f2-4204-a2cd-a9ca2a9d7ff7',\n",
       "       'fe5b176c-5c6c-45cf-8bdb-36629b30cfc2',\n",
       "       '364d8f17-03d9-46f2-a08d-7bf77c443c85',\n",
       "       '99a1f94f-f1b7-4c6b-aa40-0d369b7d96c2',\n",
       "       '59f89d7e-c5d0-492e-8600-969d590db8cf',\n",
       "       '8ff2fbdb-4c0e-4f93-a31e-b20d44a6f43e',\n",
       "       '2ebd0630-951f-4d74-bf59-ca6b8bfa00e3',\n",
       "       'c3afb47f-a887-4f7c-b59a-9f1d4d1a7344',\n",
       "       'a95663fc-bcd7-447b-bbd6-0b275ca7c38d',\n",
       "       '214ea957-8ae0-45be-ae99-bc531ce5caa9',\n",
       "       '09a2e746-1c1b-4d91-8025-4d46046d1a40',\n",
       "       'fc25617b-2380-4c6b-b8f2-a4eff3976252',\n",
       "       'f4c7144b-358b-46a8-adc4-af510574db2b',\n",
       "       'b6fb2a10-6786-4e5e-b2b4-172bbbb3b5e9',\n",
       "       '8ade5186-b493-404e-b3bb-170d80894ada',\n",
       "       '11b1308b-f687-481e-b9c5-8e0aab985fe6',\n",
       "       '8d681d0a-700b-4747-9c30-c88651990697',\n",
       "       '73e04a4f-8e72-4641-8505-fd6a57636a62',\n",
       "       '0d5e762e-aa8f-447d-ab86-654b529e1ce1',\n",
       "       '7376372b-5bd7-48fd-972c-749b41c38fc9',\n",
       "       '90d69f5c-b821-4521-933c-41fe620a5c09',\n",
       "       '45a61fe2-c8e4-4036-9da3-87ad0061120e',\n",
       "       '142f0cb2-e5b2-4b32-84f2-6d56279fe988',\n",
       "       '06dcb7f9-70fb-4f10-adbc-b20f523eac27',\n",
       "       '5680c551-f4a6-4e89-bb2e-2efcf20755fd',\n",
       "       'c814f9b0-5ce8-4885-87d3-042d06d3dbf8',\n",
       "       'a5c154ea-dcff-424c-9533-6a30f6764dd3',\n",
       "       'ebac0c13-c98a-45d2-a7e7-e4646304afff',\n",
       "       'eb95919a-59f1-4c16-ad22-c974d4518f8a',\n",
       "       '87eadc24-13cd-42d9-850a-c4e86e03cc87',\n",
       "       '29fcd675-e8a6-42c9-aef6-e0250a3f81d8',\n",
       "       '8e06a76b-0b38-4ebb-87f9-22947f7192de',\n",
       "       'f4e3f3ac-f23b-43c7-8526-560ff917054e',\n",
       "       'aaeeda34-8a72-4f3a-882a-05394b33a939',\n",
       "       '33644e64-b8db-4091-ae89-83146800569e',\n",
       "       '34f62121-60c2-427f-8dfe-9e4511a21815',\n",
       "       '1b3efe33-34b4-4656-9c4f-4154dae4c0db',\n",
       "       '9eb5c989-0e4c-434e-a8bc-059c7db70b57',\n",
       "       'cb17b2eb-caa1-4da1-8041-848ec20e7705',\n",
       "       '6faac261-47e1-4853-9af4-f294bf689fe2',\n",
       "       'd15998d5-b5bd-4f7b-80da-6bbfdc26ad69',\n",
       "       '226d7a50-315e-4f79-9cb0-b7841f3e5af5',\n",
       "       'd262bc65-aa25-40dd-bd9a-09e08f7c5e2e',\n",
       "       'd90428a1-5f6e-42eb-9f8f-d9b9c052f61c',\n",
       "       '16201b37-501b-4fa1-bb71-f7771981c53d',\n",
       "       'd2cb275f-83f7-42b0-ae6f-b9455ddcf056',\n",
       "       '2d762e25-9f78-41dc-9900-6dce8cfa801f',\n",
       "       '0b40d9f2-7539-4ae4-b774-36272bdf3b7e',\n",
       "       'f50daafb-72f2-489f-a9b2-efa8079d723c',\n",
       "       'e6aa69a6-95e0-47dd-9182-33c7dd549792',\n",
       "       'e8cd9903-e40d-4e0d-9694-05eec53ba2d1',\n",
       "       '49ff331e-08f0-4106-b30f-232f580789c4',\n",
       "       'ecbc9336-2ffe-4357-8801-538ca56dd347',\n",
       "       'fc0b35fd-35f2-47ad-8c51-78af1f4c64e7',\n",
       "       'aab71911-8b7c-44a3-85be-42468e549fe4',\n",
       "       '3fd4bdb8-91ea-4f93-ad8a-447a5acd12b0',\n",
       "       '116d6da0-3059-4af5-8d7f-2dcb5c60316f',\n",
       "       'a913c0c4-da05-4e35-8cad-6746fbffea2c',\n",
       "       '60da250b-67be-4893-b0a2-21b82efda353',\n",
       "       '85280c4f-c503-4cdf-8d6c-0ad03d08de10',\n",
       "       'c4dcc921-4e64-40f8-af65-817aed07cc47',\n",
       "       '025626b4-ca2a-44c6-bc26-411ed15e10b0',\n",
       "       '51da53ab-e17a-43bb-b01b-745be3603923',\n",
       "       '2dfae778-d728-4e87-89af-1507c2e3c425',\n",
       "       '33638cd5-b556-4ce6-8493-48cc3f37919e',\n",
       "       'e5f3a807-abf5-4662-bba3-856954fc76df',\n",
       "       'edaaed8a-b738-45f0-b352-e5eb517f4ea6',\n",
       "       '2f86ba7b-00d9-4c1f-893b-02c9b1c0da2c',\n",
       "       '68528285-5f1f-43a7-8007-9adf9c9a9bc9',\n",
       "       '87ba440d-2678-40fc-8828-32b56435d1cd',\n",
       "       '5f1906bc-6861-47a5-b0f1-68d6674389e8',\n",
       "       '51951036-5dbd-4693-b637-41c690ad7203',\n",
       "       '28f1ea19-b27c-4789-8fe0-cefa64dfb31b',\n",
       "       '6703180c-0921-4368-b937-4618e5771b5a',\n",
       "       'f1e7e77b-f60c-4352-a557-aadda73cc30e',\n",
       "       '8b3500bb-356a-432b-ab3e-da46f20ea8f0',\n",
       "       'b1210996-79c3-4708-b5bb-b7a821753672',\n",
       "       '25e41114-b876-4db3-ab8b-a86d68a84e59',\n",
       "       '0e2238ac-b796-4e9d-84e1-dd2df618e578',\n",
       "       'a9c7f6c0-8519-4e73-9781-fbf51bad45cf',\n",
       "       '685b2de8-c385-4370-8e63-50d6218f9744',\n",
       "       '23cc398b-ff28-42ec-8353-bc8575f69719',\n",
       "       '6573e423-4920-4b6b-972e-560ac98d3f97',\n",
       "       '8a15e4ab-5642-4646-945b-d057e5cfa633',\n",
       "       '757db0fc-498e-4a9e-bb39-3f6669808e52',\n",
       "       '924a8580-db0b-423e-b66e-38058eeb75e4',\n",
       "       '57adcbb6-66be-49bc-bd1b-46b229c8ed28',\n",
       "       '2656b1d9-f480-44cc-bf46-e5e4d7f49da0',\n",
       "       'e50c9e97-89eb-4662-a3ff-0080fdb51358',\n",
       "       '333ab0b6-268f-4919-83c3-b990b0ab1402',\n",
       "       'f1177973-8f93-43e1-b170-2d76937a3a5e',\n",
       "       '6a38effc-01a2-4fb1-b6fd-93fe5b0ab34d',\n",
       "       'f425fec0-4520-4990-939d-d3d7495305e6',\n",
       "       '161e6009-f012-4018-bb7d-2c218de88b92',\n",
       "       'e2c20a7c-e382-4ceb-b64c-c420c4a50b85',\n",
       "       'af543cbb-db80-424e-975f-d4aa9a33ffd0',\n",
       "       '74df77f4-f9b4-452d-b8dc-b9f6af4a2346',\n",
       "       '70110d8a-5204-4336-aa44-6f63943ffd56',\n",
       "       '54790716-b16f-4a77-8779-50afd7a73354',\n",
       "       '2b87c164-4ba9-4992-a0a0-66b846852b14',\n",
       "       '1adf894b-426c-403c-8174-3adeabab82c1',\n",
       "       '33a2e947-ff89-4414-95bc-56d40355d2aa',\n",
       "       '69ef670b-bbb4-47a1-a329-7a22d811f3a4',\n",
       "       '12215f98-ebbc-4621-8502-79036a6f4b77',\n",
       "       '6a30ee0e-fd30-40e1-9da1-5b1850b322ba',\n",
       "       'c743d57d-c323-4b8a-9a0a-a630fdaa1387',\n",
       "       '8d54ac13-4aa9-49dd-a4c2-8111b2e90291',\n",
       "       'c5ef19e9-9831-40b3-9f99-4beb9e375084',\n",
       "       'a105950d-545c-4efd-91c4-b21a923ebd37',\n",
       "       'd3e484a3-2ad6-4ead-908d-277e728077b6',\n",
       "       '5ac2f55d-e753-4bda-8638-16f3241e6c0a',\n",
       "       '206e2b67-c865-44ee-b21a-ff9778095fd2',\n",
       "       '84c27b92-e74b-4867-bcf2-229270e15f54',\n",
       "       '53ddc6fc-ae58-449b-ac63-67e84d6dcfa2',\n",
       "       '91b757ea-e3e0-4687-83ab-6dd4eb54bfbf',\n",
       "       '42386388-c155-4d3b-826a-f98f044f6d77',\n",
       "       'd9910abd-78c7-4b38-aca8-809ee9b563a9',\n",
       "       'ec3bb22d-6951-4e22-b756-61be30b21766',\n",
       "       '88b7748f-be30-44a7-a8cc-2054133ff90b',\n",
       "       '3f9ea8be-0d14-4202-b1a8-ad250bb1a428',\n",
       "       'df1e29b5-57a9-4e45-ad9c-ad002e7b810e',\n",
       "       'acc7f396-6274-418f-943e-c2434d580326',\n",
       "       'e66487a5-3a9e-43aa-8a09-2fb7eb73ffff',\n",
       "       '127bf987-ad6c-4591-b1dc-2e7e04dfaa95',\n",
       "       'ae648f72-1362-4ce2-9663-f8153b39cf28',\n",
       "       '10ceb25d-7881-45d9-ab3a-614215d9b634',\n",
       "       'c711ef2e-ea85-4ad6-bd2c-1792e6f0799e',\n",
       "       '9c434e46-d724-4d80-9eff-ce6d19cb7277',\n",
       "       '0da635a1-8f71-48b7-b3db-011fec25e31f',\n",
       "       '3fae8e03-5f92-4450-b7c6-a06ff810d3cc',\n",
       "       '32f1ac0c-abd0-471e-ac68-b6b77d50f1d2',\n",
       "       '313e76a8-adb5-4a3c-a148-6ca9d41bf9a0',\n",
       "       'ddac4035-9717-4a1f-8e6c-2458fd369b0f',\n",
       "       '4ff05045-ef46-401b-9bfb-67ae6a2e951a',\n",
       "       '3377efdf-888b-4090-a87e-5ef9725c1ba4',\n",
       "       '3d413839-f6ce-4ac5-b900-64676120b724',\n",
       "       'a2ae7b4b-a1ad-4d5f-b036-b4424c4e2092',\n",
       "       'ca3e2e2d-af65-4f75-a785-7eee8a22d650',\n",
       "       'cd121746-40a5-4a45-8b0c-152a6705aa83',\n",
       "       'cc4c80ed-0bf7-4ce7-bcbb-aa81aa9bf511',\n",
       "       '8ec72859-59f2-4146-8011-cba281f88daf',\n",
       "       '7bed48e4-f2ef-47f8-ab0c-a7497de38949',\n",
       "       '9379ea5c-370a-482d-b764-b49dd233fa8c',\n",
       "       '0b21e802-6ad6-4a36-ac15-c1b65d024ab4',\n",
       "       '6014d7af-1806-4327-93b5-13469900b693',\n",
       "       '340cd8ad-b54f-4447-ba6d-01fb00a5828c',\n",
       "       '91769003-9453-4c0e-a367-b9c0d843226b',\n",
       "       '1ee55b31-237f-426b-9c41-f189d8c9d6b2',\n",
       "       '63e760f5-ccbc-4ea5-ab03-e781139bf077',\n",
       "       'e28d82cd-5dc3-40f7-bff2-d13bd0459322',\n",
       "       '2bba15f0-3902-446a-9f40-b124350c54db',\n",
       "       'fc5d3fa7-4c50-4966-abb6-6fc041ca4bb3',\n",
       "       'd6c03545-fbc8-4f62-b98a-22aac96f5ac4',\n",
       "       '005660b8-714a-4645-956e-788e2fb2240e',\n",
       "       '23ab67f9-ce85-4210-9c92-484788ea101d',\n",
       "       '7371e284-b35e-457c-866a-1b40df76ccee',\n",
       "       '3fe0b784-2185-4284-bfb5-c4dc3c72ef06',\n",
       "       'ccf617f6-ec9c-4754-836e-03c57acb4e09',\n",
       "       '5737c2ac-5d7b-4f37-8bd0-00ee93212327',\n",
       "       '6b2bbdf5-fa0c-485f-b614-28b153fbe4cc',\n",
       "       '1b1a5de6-f4c8-42d1-a282-a83c2f7b7df3',\n",
       "       '7c231f89-b8a2-41e2-a067-0698f728ae4a',\n",
       "       '2adc0062-f632-4893-9cb5-4818032efd05',\n",
       "       '3c2d29b2-afc7-49d3-bcf6-7d9c9b5605f5',\n",
       "       '7a4bec30-5bc7-4455-8ddf-54d68cd72c21',\n",
       "       'ce74d986-f800-4e72-a877-44902e83bf82',\n",
       "       '28e52e32-5f78-42b5-876f-c41dae253038',\n",
       "       'fb369f90-304f-41e9-8f60-444ded550aed',\n",
       "       '45ca173e-29e5-4a00-b33b-b49d714ccf0e',\n",
       "       '49f5ab81-f1f8-4fd8-ae68-a0f2a19cd492',\n",
       "       '6260993b-4088-46dd-88ea-5d9443169897',\n",
       "       'a8d84bf6-5e7f-45b0-ad4f-c6d08668294d',\n",
       "       'df7b5c7d-2689-4893-b2fc-ea048e5cf9df',\n",
       "       '26642c25-fc15-4c39-9567-026714736d2d',\n",
       "       'ccafa3ab-3f83-4ce2-a3f9-e0795b593af6',\n",
       "       '0ef9578b-26d2-4766-b99e-e5213348950c',\n",
       "       '6a3c1307-1714-4d07-8e95-45cbb273c41f',\n",
       "       '746dbef4-1249-404b-bd3b-790e88213b3b',\n",
       "       'ca9f20bf-d9d3-4bd2-ba0f-22fc0d448135',\n",
       "       '273d893e-ec73-49cf-87dc-851b4c16b855',\n",
       "       '4861c9e0-4ce6-4f9a-9aec-71567da93f63',\n",
       "       '4efe5000-6f3d-42e1-ae18-27fecf03d165',\n",
       "       'c92f36ca-e860-4293-9e60-6deacb06e8da',\n",
       "       '757e5835-bde4-443d-b493-f14526e87f29',\n",
       "       '1752e40b-1f2f-43a1-8e48-5d89dc0ed579',\n",
       "       '39ae493d-f028-4b4f-9234-c5159d368b20',\n",
       "       'f244e07f-e39e-4c04-bef7-47ff6f0cc089',\n",
       "       'e3b0f149-2755-4df0-8958-27173966cee4',\n",
       "       'e85bd436-8cd9-469e-bab6-7734b481234e',\n",
       "       '4cd1df9f-30ce-413d-8a2e-b573cb7fc44e',\n",
       "       '3be966c8-b524-4315-8e23-4aeb6ed4ad34',\n",
       "       'a8d674b2-18c0-4e44-9802-e13812b58107',\n",
       "       '8e38ba67-6980-40e5-8199-48c4417ad83a',\n",
       "       'fa477ff7-c9d2-49ff-93ae-390fed96efb1',\n",
       "       '037c94a6-eac1-417f-ae25-f1de8ca34153',\n",
       "       'd09d712a-b99a-4915-989b-19b4c5acac37',\n",
       "       'a8d8ee57-977e-4aa6-93a5-b2cb46cdc0ce',\n",
       "       'a5032817-47f0-4b98-a0af-73cbf647fb95',\n",
       "       '870487a1-46d7-4d15-8142-a42f441019b2',\n",
       "       'd188438f-0f1f-4908-b89e-73ee44e7695e',\n",
       "       'ce3a4277-4585-473c-8f9b-b4481fb104ab',\n",
       "       '837a2919-1f48-404a-9bc5-4c762adebf3b',\n",
       "       '27715805-0b31-4cb5-b437-66852605e654',\n",
       "       '893b4366-763d-4614-a95f-9dee8960511c',\n",
       "       '8fa599f1-df18-49f3-8a21-9a09e66d9c85',\n",
       "       '4fd95630-c57a-432e-ad02-e1b7857623e6',\n",
       "       '2cc14ce9-033c-488e-a22b-19116528bd7e',\n",
       "       '3fd76f72-af44-4aad-a15d-72ddcd0abc87',\n",
       "       'ab499d48-da90-4d3a-8958-d8069c251641',\n",
       "       '1b7c9c42-4046-4ba6-b18c-252fb97d766b',\n",
       "       '4acff42b-50d0-420c-b5e2-f592e25fc1ad',\n",
       "       'a947b8b8-9747-4fa6-9998-8ae9367bd333',\n",
       "       '600a8b7b-1a53-45f9-be6f-624db668a5e5',\n",
       "       '8b15448a-6736-4207-901f-dfc68fd42831',\n",
       "       '868d1884-9985-472a-adca-776aaaa37d60',\n",
       "       'e22a66cd-44a5-44b3-a17a-a756c68dbb01',\n",
       "       'd74d475c-5e75-430e-8d8e-62a6052b2b27',\n",
       "       '5487a91b-8416-40e1-b366-4fdcaaaf98bb',\n",
       "       '8baed36b-ec20-4f99-86a3-9977249d1b54',\n",
       "       'b2c354de-72d6-4683-a8ec-e3bbf8f8fc7f',\n",
       "       '24757f96-bb29-4fa0-a919-307603d6a6f6',\n",
       "       '77d9df04-f2cb-419b-97b5-ead1bc2e6a33',\n",
       "       '92dde3ec-8341-4a70-b00d-d7b935804808',\n",
       "       'f6226704-df9b-4b7c-86a8-bbf556435668',\n",
       "       '510cd9cd-d2e1-49e4-8588-a42dc9e17ffd',\n",
       "       'f0d21139-cb54-40b2-bfee-1b0f7e6b3af8',\n",
       "       '8f6bbdf8-aebf-456b-a1b9-e7293cedcc01',\n",
       "       '70a64794-18c1-4409-813b-7b49fc0199c9',\n",
       "       'c13859c2-462a-463e-b4e1-169a84c8a47e',\n",
       "       'e005125b-ac7a-438e-bca6-d024c8a686fb',\n",
       "       '2889bebb-1181-42aa-a300-c69354cb9f6f',\n",
       "       '5373a599-1971-4602-a6ef-19c13198ce31',\n",
       "       '650ac5b5-b2f8-4581-bbd2-029a7ef8ed53',\n",
       "       'ead7b1f0-0f4c-4b4a-adcf-f24e5c01c9fa',\n",
       "       'a9b573f3-9168-446c-99b2-be66288ff75f',\n",
       "       'cf2b2a68-a8bc-424b-91c6-030d730f3875',\n",
       "       'c715ecc9-0f1c-4e6e-9f33-e6a09122ce66',\n",
       "       '8961d371-66fd-45ee-bfa3-a9d863728ba5',\n",
       "       '447c3302-08a3-41f0-832d-a211d8b62a9e',\n",
       "       'a0a08342-9fc8-475f-8941-e7cce6e3d03a',\n",
       "       '1762fa4d-7d92-42ad-af7b-1c6d29f00c80',\n",
       "       '99fac2e7-6e75-4c17-a53b-db1f7354654f',\n",
       "       '05a89ea2-ef72-4b1e-9f38-ae7e5040bee6',\n",
       "       '4dc71c3c-80f2-4032-94c3-c6a097739fa9',\n",
       "       'd852839a-f18a-4ad7-a354-b29d9bc5c04e',\n",
       "       '490f6684-1757-4e24-bd89-a646fc25439b',\n",
       "       '02931d9a-4d2e-4afd-89b2-d8dfff9ee9f9',\n",
       "       '322ed292-9880-477e-a2e3-0bd359f276de',\n",
       "       'c48b776e-9983-423a-9505-34eeb0fbcce6',\n",
       "       'fb51f640-c5c0-4890-95c4-63356e9ff2c7',\n",
       "       '9284afb2-ed89-4e04-8208-54fc0fc984fc',\n",
       "       '7367ed88-c8e6-42f0-af75-252ac2f17dbd',\n",
       "       'c3b971b8-7710-432c-97fe-e05aae514cf3',\n",
       "       '5a70e92c-ff7c-467b-9090-cd270736bc2b',\n",
       "       'cd5fdcb2-d072-4a3a-a82b-596fed4cc7ae',\n",
       "       '26cdcf26-f007-41a8-8165-c90ccff3928a',\n",
       "       'e30d8bdd-c0ad-45dd-8b03-300e67f9e84c',\n",
       "       '333e2c11-815e-4c4d-bd3e-b0c2f60f9f33',\n",
       "       '7a25bd06-ef19-4315-9b61-4f4cec8ea96e',\n",
       "       'ae20823d-c026-49b3-ac3c-fab798122b24',\n",
       "       '0ba6db5c-6d14-400b-b0cc-fcb53d0199f2',\n",
       "       '0bf07e39-5763-4b13-a103-ddf386b2688e',\n",
       "       'd228cc13-8499-4d3b-9b0f-3eceb7ef3751',\n",
       "       'c9953f89-f81d-40be-8455-4d52a0738f8f',\n",
       "       'bab4e811-d18e-4bab-bb53-95675bb6e624',\n",
       "       'de9fd1a8-6b3b-4b28-898c-20660b1ebe73',\n",
       "       'b3eae41c-d1e2-4559-9a98-d1926f133524',\n",
       "       'c202edeb-1a3f-4e61-8384-e9d90bcf97e5',\n",
       "       '023cb5cc-4d44-4f44-8d61-a377a3996c1d',\n",
       "       'b9461be6-0b90-4fa5-aeb2-e4f7ea50394d',\n",
       "       '0a935ef9-0342-44b7-8f14-e5aae07209f3',\n",
       "       '45ab7df2-f9e6-4e51-a917-dfb7e0faace5',\n",
       "       '94dc6104-a924-442a-b895-2bf1152db312',\n",
       "       '7a1b1a13-4d1e-4528-98f4-5ed9e499ea79',\n",
       "       '1bdc49bb-feef-426c-88d9-c7be888eb751',\n",
       "       'acb46f99-769e-44dd-8356-28b914d93a10',\n",
       "       '9ef078f9-b115-436a-a603-a941ad63587f',\n",
       "       '4d12c615-d9f2-4757-a298-01dd50e57cdf',\n",
       "       '8aafd2b0-37ae-4512-906a-733b4600550c',\n",
       "       '4264c139-2642-47f5-9ce6-38d979b5c810',\n",
       "       'fd3d2e2e-8099-41b6-94f3-418cbba4d21a',\n",
       "       'fd1d47d4-d70a-45d7-9796-17034e8011ba',\n",
       "       '7009f191-6869-4f39-8177-8f5f6f6f1c6c',\n",
       "       '43992bba-7622-4b30-a6f4-119576d74120',\n",
       "       '1ce53687-4dc9-4a85-8550-f186c204645e',\n",
       "       '5da58964-984e-4d89-9757-d3786e264145',\n",
       "       '8d4a2884-ede7-4cfd-9f0a-e831b2d60849',\n",
       "       'c023f88f-33c7-471a-9af4-54ea0f8cc049',\n",
       "       '2202a938-bd84-4fd0-80c4-e7e7c1829777',\n",
       "       '60c149a0-4432-4541-a792-89711660ac51',\n",
       "       'cc397240-d675-4eb6-8dc9-fb1e519b3c3c',\n",
       "       '5ae1a8b5-8db2-497e-bd59-10175de0d123',\n",
       "       '142a7c97-7355-498c-ae6d-b0efcc0d9d89',\n",
       "       '6ee78af9-2533-4096-968b-46d4ce67c7ed',\n",
       "       '3ba31e41-50cd-4e5b-8170-1db5007f66bf',\n",
       "       'd700987f-8356-4c90-8943-0d6400c04c93',\n",
       "       '1ccdec03-e1fd-45c4-a805-b7317fc1815b',\n",
       "       'eee07934-ac07-45f4-b0bb-bd361b916cf0',\n",
       "       '98446d88-e47f-4fdc-8d0a-51c7b77a5ff4',\n",
       "       'c5463192-b2ba-4235-8a47-aac262829fc2',\n",
       "       '7544d594-2b03-485f-8bb7-2f0ff27aea59',\n",
       "       '2daa9d9c-6447-4b7a-9122-bdd5609d2e02',\n",
       "       '1c46779a-2a0d-46b9-96cb-aa0fa5095b9f',\n",
       "       '9ee3a8ed-0447-4622-8bed-5469636e4cc9',\n",
       "       '417aa8d5-016c-40ed-9b2d-f6b7c3bb79c8',\n",
       "       'cf46a3d0-87db-417c-91f4-8f4fc2bd7694',\n",
       "       '78410800-11b6-4f0a-bc43-4b4eb8cf914c',\n",
       "       '68044d6d-8be7-41f1-bdc8-2d3660ad00fe',\n",
       "       'f8f4f77e-9ab5-42bf-8d09-c2be9103d7ac',\n",
       "       'f8f4835d-cc3b-4d94-b18d-1a92f3ba64d6',\n",
       "       'f72d3f1d-64a9-4196-acf1-2a6b7cf78285',\n",
       "       'ecb7e31a-5c8d-452a-accd-9ced1bf827cf',\n",
       "       '0eae61a2-ca8d-40e8-98f3-812bae8b27fd',\n",
       "       '482573dc-eb5f-4652-bd74-ce6f9cf77e29',\n",
       "       'c5aab3e8-fc36-418c-8a5d-49065743a4ef',\n",
       "       '7a0f3b29-7de7-409c-bdff-9a30202d1d53',\n",
       "       '87043738-fdc7-4614-95f1-4822499ae40f',\n",
       "       'fb690ada-3d07-421a-869e-663e35c19800',\n",
       "       '99000ec4-ee4f-4722-bd80-fad1f4e435b7',\n",
       "       '703bbadb-7f2d-4c0c-9992-4a5ac7db2d0d',\n",
       "       'b9efa324-961d-4899-8a1f-7e9ab6460356',\n",
       "       '2691185a-f5fb-4635-8b4c-96467ce12d03',\n",
       "       'b40b9449-78d4-4fc1-8897-fb1e8f412a24',\n",
       "       'c1f4c7ed-0a91-4c3c-9001-a2e05515b72e',\n",
       "       '21ec9ee6-466a-4529-95ef-101359926700',\n",
       "       'de944fd5-5f0a-4886-8cc4-7e41132e118a',\n",
       "       'c74d31d0-27e7-483a-a3c8-9c85579132e2',\n",
       "       '6e5c0e49-73af-48d0-b4db-2e6d28cec845',\n",
       "       '923bc3c2-d91a-448d-828c-09829b30f77e',\n",
       "       'cb00769a-e7c8-479d-b76c-75572c6f1a2e',\n",
       "       'b4780ebd-52a3-4c5b-be36-56080b8e150f',\n",
       "       '0af6ff06-ebb8-4e2d-b5da-332234287068',\n",
       "       '323719ec-7ae6-45ea-832c-e4a01607a378',\n",
       "       '3413bf4f-fab9-47a3-a607-18f13296434d',\n",
       "       '06162e9e-5fce-4dd4-9c40-823b0ab92737',\n",
       "       '76e6772e-bb48-4acc-a8a4-9649de7b6bde',\n",
       "       'eeef99ad-aaf9-4246-80d4-b693b4a7a682',\n",
       "       'b6539bcd-7747-4059-bb1a-cbfecd4a16ec',\n",
       "       '13f6eb9f-da3d-49d6-a0c8-063c0b0bd373',\n",
       "       '3db2d5e3-fc61-46e9-904f-6d277319a83b',\n",
       "       'fd739f77-c446-4588-b820-f70ec1b5bf02',\n",
       "       '32e48d3a-ea15-4e6e-b608-663a194da1dd',\n",
       "       'babcedcb-932b-4235-a2eb-77beb7eb33bb',\n",
       "       '8c865bf5-85eb-49e0-842a-be6367a6e33e',\n",
       "       '7b0185ed-3e7e-4d5a-be96-2532221adbfe',\n",
       "       'fe4bc44f-8382-4c6b-a383-a21db9a01663',\n",
       "       'e67dfa6d-465e-470b-a8f6-f4ce27dcd99f',\n",
       "       'bc4ec77a-5082-44e5-8b24-8e3ff47e7a31',\n",
       "       'ef14c3cf-009b-4ae9-9576-51a107fb9434',\n",
       "       '4f4932bb-771b-4d59-9e63-414739032eb2',\n",
       "       'bf460291-3c2a-45ed-a7a7-f8fada2f96f6',\n",
       "       '27e35a7e-08a8-4409-aa67-70e733e995e9',\n",
       "       '71b20d97-8bc4-425a-a6cb-7d3958ee55aa',\n",
       "       'ef00b907-d217-4c6a-9d88-5c3a97ba4d76',\n",
       "       '0e0c6e52-c2c4-4e1d-b1e3-5ac1e3f29b04',\n",
       "       '2d6aafb3-1bc4-4a57-bcd6-e8a72ed5da63',\n",
       "       '0ddd7f80-0e17-4acd-b0bf-17a343cdd57e',\n",
       "       'fa6d854a-b0d6-492b-8237-8dde531dfe17',\n",
       "       'fbff5ab7-2b38-43e5-a572-8e2ee0e1cc14',\n",
       "       '5cdc6097-b105-47ba-881e-866cf0437c79',\n",
       "       '31e21b47-8c08-4aad-a795-bb4e8087ee79',\n",
       "       '83ee4cb0-5dba-4ec5-bd19-ef55f0ef24c0',\n",
       "       'a7bdc250-b360-4a48-95c2-25a6c1c9ead3',\n",
       "       '22b60624-bd89-4d78-970a-fbe206645d46',\n",
       "       'cb887409-18cf-4ccf-9c99-f1fba15984b8',\n",
       "       'd2bc08ce-d4d3-419f-ae56-2f6a4a2588de',\n",
       "       'fcd473ee-f07f-40f2-8c4b-55897eec4e91',\n",
       "       'c2d19957-a13e-44d4-a94c-9e5e88303abc',\n",
       "       '9d1d9ef7-68db-4ac6-b812-2c1e8f529ee0',\n",
       "       'd4110ddb-ef56-40c9-8f82-17dc07f64b88',\n",
       "       'a8494fd5-94e6-482e-886b-512525b70ba3',\n",
       "       'd955139e-4d0c-4283-a4cc-c8002f2a4160',\n",
       "       'fafc3949-aa42-4201-85b2-9443e8cac373',\n",
       "       'ac4842b7-dd6a-48b9-bd8e-485c45595536',\n",
       "       'fbd7bbb3-7840-4195-80c8-6ce14e88048f',\n",
       "       '2b24fb8c-c306-46c6-9622-9a257203d3bd',\n",
       "       '37958c5e-5f1d-4c33-ad6b-efb32feec030',\n",
       "       'bf956461-fe51-4bd8-bf61-d7566900837f',\n",
       "       '69cb39a3-9c0d-4c9e-95c3-d151d2ea68ca',\n",
       "       '6b18bfb2-bca7-4324-bd4b-31a8e0f5a363',\n",
       "       'b0bb6385-f971-4a35-ad31-579835687167',\n",
       "       '0bb07681-bbef-4be5-b102-f46996b2289a',\n",
       "       'f6988b31-0a20-4ffb-b90e-0b49e1258657',\n",
       "       'ebe256ef-8eb3-47f9-a9f0-3084be21e7c2',\n",
       "       '5a0264d4-b9fa-4e30-ab89-078bb5f302fd',\n",
       "       'b98884fa-66ff-4504-8795-24a7dc28e71e',\n",
       "       '151d748d-ef36-43c8-9456-f09fd93fb35e',\n",
       "       'b7ad4838-704d-4ebd-946a-94af6729a61a',\n",
       "       '6e57aaaf-5473-476e-8a1b-0c079b95fadc',\n",
       "       '78e6cea0-8286-4387-ae05-b8abc1dc0766',\n",
       "       '2ecb5f66-86a3-4725-ac44-9b3bd481f6d6',\n",
       "       '744f5c87-7d3b-4ff3-9579-d512a825f889',\n",
       "       'f3fe94eb-f357-4208-9837-3f90fd88358c',\n",
       "       '114c7ca9-afb0-45a5-919e-9321cb1ffce4',\n",
       "       '935c165f-2ad3-4734-b2da-4f18f3dc400b',\n",
       "       'cdbbe0c5-265b-47ac-88e1-3ecaf74fb6b4',\n",
       "       'afa9ba6d-b9bd-496d-b27f-2ed6cfc6c44f',\n",
       "       'adc01ba2-83e6-440c-bb4b-07b3884a9ad6',\n",
       "       'e0078ab6-64b2-4675-9e2c-40cfe26d8c89',\n",
       "       '25f78b59-ec91-4b1d-bb9d-c839c26b9e15',\n",
       "       '3ef84c01-b409-4a11-afd5-912e897d85a3',\n",
       "       '7ac6cf27-a03f-475f-b287-41778bece667',\n",
       "       '67b411e3-39b8-4e99-b0a6-37fcc39cd241',\n",
       "       '7b23ecf7-2234-4c47-8f32-4408f04b39d1',\n",
       "       'e8ab0539-48c8-49ba-8671-527d0d4358a8',\n",
       "       'ab9a93fa-e55c-4c29-97ac-55863670f710',\n",
       "       'd1305b26-d0c9-47df-8104-e44ebc135b68',\n",
       "       '5eaeed5c-8f24-41d7-a60d-4e2b66f7ff68',\n",
       "       '9ffe8628-6d1f-4305-b660-778dbd97a0df',\n",
       "       'a7587f6a-1b3c-474b-859d-4f9431660917',\n",
       "       '7e4e06c1-0ad6-42e8-b4f0-d8e6adad68ef',\n",
       "       'a21c9472-c02a-4a01-95ac-9f1e7a86f87a',\n",
       "       '87ac8762-4a4d-4018-8ab4-58f530c53d41',\n",
       "       '532be213-4687-43f6-a1e5-aa4d06a3d8ba',\n",
       "       '7c48b728-6d3a-41b1-b76f-29ce50e7a050',\n",
       "       '47a3b28a-7bec-45fd-afa4-93d9dc0b1c1c',\n",
       "       '0f3c04b6-00e7-4b8d-a986-6bcfaf5649c2',\n",
       "       '734abfb6-ce03-4288-be8e-6ca9c217570a',\n",
       "       '8023b5e5-0f48-4466-8b02-93bed556294e',\n",
       "       '03d836d9-1669-4ffd-8ed7-f1210c696dd1',\n",
       "       'b4c9a63c-a89b-44aa-ab02-7d46e0edfd70',\n",
       "       'cf691c36-2a82-4141-8122-4023b6e1d97d',\n",
       "       'f86b1424-2175-4ea1-acc5-758040823050',\n",
       "       '38be1154-b0bb-49e1-be87-c6b0c3a319f7',\n",
       "       '8fac663e-06bd-4af4-a654-86ec8e97a07a',\n",
       "       'df8ee3ec-5d04-4fe8-a49f-8469ae1b5030',\n",
       "       'b67cc592-b07d-4074-baa3-0d3a9381c5e0'], dtype=object)"
      ]
     },
     "execution_count": 29,
     "metadata": {},
     "output_type": "execute_result"
    }
   ],
   "source": [
    "sym_df['intensity'].unique()"
   ]
  },
  {
   "cell_type": "markdown",
   "metadata": {},
   "source": [
    "I do not know how to interpret these. I assume they are the result of errors in the data pipeline. So, I will drop them."
   ]
  },
  {
   "cell_type": "markdown",
   "metadata": {},
   "source": [
    "#### Occured At"
   ]
  },
  {
   "cell_type": "code",
   "execution_count": 80,
   "metadata": {},
   "outputs": [
    {
     "name": "stdout",
     "output_type": "stream",
     "text": [
      "Bowel Movements:\n"
     ]
    },
    {
     "data": {
      "text/plain": [
       "id\n",
       "6162    2019-10-04 19:10:00\n",
       "6161    2019-10-04 11:30:00\n",
       "6131    2019-10-03 14:05:00\n",
       "6103    2019-10-02 22:00:00\n",
       "6102    2019-10-02 14:00:00\n",
       "               ...         \n",
       "3928    2019-07-21 14:15:00\n",
       "3924    2019-07-21 07:30:00\n",
       "3923    2019-07-20 22:00:00\n",
       "3907    2019-07-20 18:10:00\n",
       "3901    2019-07-20 14:00:00\n",
       "Name: occurred_at, Length: 6015, dtype: object"
      ]
     },
     "metadata": {},
     "output_type": "display_data"
    },
    {
     "name": "stdout",
     "output_type": "stream",
     "text": [
      "Symptoms:\n"
     ]
    },
    {
     "data": {
      "text/plain": [
       "0        2019-06-20 22:00:00\n",
       "1        2019-06-20 22:00:00\n",
       "2        2019-06-25 18:00:00\n",
       "3        2019-06-20 16:00:00\n",
       "4        2019-06-20 12:00:00\n",
       "                ...         \n",
       "20866    2019-07-21 14:15:00\n",
       "20867    2019-07-21 07:30:00\n",
       "20868    2019-07-20 22:00:00\n",
       "20869    2019-07-20 18:10:00\n",
       "20870    2019-07-20 14:00:00\n",
       "Name: occurred_at, Length: 20871, dtype: object"
      ]
     },
     "metadata": {},
     "output_type": "display_data"
    }
   ],
   "source": [
    "print('Bowel Movements:')\n",
    "display(bm_df['occurred_at'])\n",
    "print('Symptoms:')\n",
    "display(sym_df['occurred_at'])"
   ]
  },
  {
   "cell_type": "markdown",
   "metadata": {},
   "source": [
    "To explore these, I will convert this series of objects to an array of datetime64 objects."
   ]
  },
  {
   "cell_type": "code",
   "execution_count": 81,
   "metadata": {},
   "outputs": [],
   "source": [
    "bm_occurrences = pd.DatetimeIndex(pd.to_datetime(bm_df['occurred_at']))\n",
    "sym_occurrences = pd.DatetimeIndex(pd.to_datetime(sym_df['occurred_at']))"
   ]
  },
  {
   "cell_type": "code",
   "execution_count": 89,
   "metadata": {},
   "outputs": [
    {
     "data": {
      "image/png": "[encoded data removed]",
      "text/plain": [
       "<Figure size 720x288 with 2 Axes>"
      ]
     },
     "metadata": {
      "needs_background": "light"
     },
     "output_type": "display_data"
    }
   ],
   "source": [
    "plt.figure(figsize=(10, 4))\n",
    "\n",
    "plt.subplot(1, 2, 1)\n",
    "sns.countplot(bm_occurrences.year)\n",
    "plt.xlabel('Year')\n",
    "plt.ylabel('Number of Bowel Movements')\n",
    "plt.title('Bowel Movements by Year')\n",
    "\n",
    "plt.subplot(1, 2, 2)\n",
    "sns.countplot(sym_occurrences.year)\n",
    "plt.xlabel('Year')\n",
    "plt.ylabel('Number of Symptoms')\n",
    "plt.title('Symptoms by Year')\n",
    "\n",
    "plt.tight_layout();"
   ]
  },
  {
   "cell_type": "code",
   "execution_count": 92,
   "metadata": {},
   "outputs": [
    {
     "data": {
      "image/png": "[encoded data removed]",
      "text/plain": [
       "<Figure size 720x288 with 2 Axes>"
      ]
     },
     "metadata": {
      "needs_background": "light"
     },
     "output_type": "display_data"
    }
   ],
   "source": [
    "plt.figure(figsize=(10, 4))\n",
    "\n",
    "plt.subplot(1, 2, 1)\n",
    "sns.countplot(bm_occurrences.month)\n",
    "plt.xlabel('Month')\n",
    "plt.ylabel('Number of Bowel Movements')\n",
    "plt.title('Bowel Movements by Month')\n",
    "\n",
    "plt.subplot(1, 2, 2)\n",
    "sns.countplot(sym_occurrences.month)\n",
    "plt.xlabel('Month')\n",
    "plt.ylabel('Number of Symptoms')\n",
    "plt.title('Symptoms by Month')\n",
    "\n",
    "plt.tight_layout();"
   ]
  },
  {
   "cell_type": "markdown",
   "metadata": {},
   "source": [
    "This distribution should be nearly uniform, as the amount of bowel movements people experience does not vary largely between months. The graph above suggests that the data were collected primary through the spring and summer months. One possible explanation is that data collection begun in November, 2018, and the app's popularity grew afterwards."
   ]
  },
  {
   "cell_type": "code",
   "execution_count": 93,
   "metadata": {},
   "outputs": [
    {
     "data": {
      "image/png": "[encoded data removed]",
      "text/plain": [
       "<Figure size 720x288 with 2 Axes>"
      ]
     },
     "metadata": {
      "needs_background": "light"
     },
     "output_type": "display_data"
    }
   ],
   "source": [
    "plt.figure(figsize=(10, 4))\n",
    "\n",
    "plt.subplot(1, 2, 1)\n",
    "sns.countplot(bm_occurrences.hour)\n",
    "plt.xlabel('Hour')\n",
    "plt.ylabel('Number of Bowel Movements')\n",
    "plt.title('Bowel Movements by Hour')\n",
    "\n",
    "plt.subplot(1, 2, 2)\n",
    "sns.countplot(sym_occurrences.hour)\n",
    "plt.xlabel('Hour')\n",
    "plt.ylabel('Number of Symptoms')\n",
    "plt.title('Symptoms by Hour')\n",
    "\n",
    "plt.tight_layout();"
   ]
  },
  {
   "cell_type": "markdown",
   "metadata": {},
   "source": [
    "There are a significant amount of bowel movements and symptoms logged in the middle of the night - more, in fact, than there are in the morning! This makes me skeptical of the data's validity. On the other hand, the latter part of the data suits my expectations, with a peak amount of bowel movements and symptoms logged in the middle of the afternoon."
   ]
  },
  {
   "cell_type": "markdown",
   "metadata": {},
   "source": [
    "One possible source of noise is time zones. I am unsure whether or not the data were normalized to one time zone. If not, I cannot do much with the data, for I do not know the time zone of each user."
   ]
  },
  {
   "cell_type": "markdown",
   "metadata": {},
   "source": [
    "For the reasons above as well as others, I will omit **occured_at** data from the clustering."
   ]
  },
  {
   "cell_type": "markdown",
   "metadata": {},
   "source": [
    "#### Symptom"
   ]
  },
  {
   "cell_type": "markdown",
   "metadata": {},
   "source": [
    "#### Duration"
   ]
  },
  {
   "cell_type": "markdown",
   "metadata": {},
   "source": [
    "<a id='preprocessing'></a>"
   ]
  },
  {
   "cell_type": "markdown",
   "metadata": {},
   "source": [
    "# Preprocessing"
   ]
  },
  {
   "cell_type": "code",
   "execution_count": null,
   "metadata": {},
   "outputs": [],
   "source": []
  },
  {
   "cell_type": "markdown",
   "metadata": {},
   "source": [
    "<a id='feature_engineering'></a>"
   ]
  },
  {
   "cell_type": "markdown",
   "metadata": {},
   "source": [
    "# Feature Engineering"
   ]
  },
  {
   "cell_type": "code",
   "execution_count": null,
   "metadata": {},
   "outputs": [],
   "source": []
  },
  {
   "cell_type": "markdown",
   "metadata": {},
   "source": [
    "<a id='num_clusters'></a>"
   ]
  },
  {
   "cell_type": "markdown",
   "metadata": {},
   "source": [
    "# Selecting Number of Clusters"
   ]
  },
  {
   "cell_type": "code",
   "execution_count": null,
   "metadata": {},
   "outputs": [],
   "source": []
  },
  {
   "cell_type": "markdown",
   "metadata": {},
   "source": [
    "<a id='clustering'></a>"
   ]
  },
  {
   "cell_type": "markdown",
   "metadata": {},
   "source": [
    "# Clustering"
   ]
  },
  {
   "cell_type": "code",
   "execution_count": null,
   "metadata": {},
   "outputs": [],
   "source": []
  },
  {
   "cell_type": "markdown",
   "metadata": {},
   "source": [
    "<a id='choose'></a>"
   ]
  },
  {
   "cell_type": "markdown",
   "metadata": {},
   "source": [
    "# Choosing Best Clustering"
   ]
  },
  {
   "cell_type": "code",
   "execution_count": null,
   "metadata": {},
   "outputs": [],
   "source": []
  }
 ],
 "metadata": {
  "kernelspec": {
   "display_name": "Python 3",
   "language": "python",
   "name": "python3"
  },
  "language_info": {
   "codemirror_mode": {
    "name": "ipython",
    "version": 3
   },
   "file_extension": ".py",
   "mimetype": "text/x-python",
   "name": "python",
   "nbconvert_exporter": "python",
   "pygments_lexer": "ipython3",
   "version": "3.6.9"
  }
 },
 "nbformat": 4,
 "nbformat_minor": 2
}
